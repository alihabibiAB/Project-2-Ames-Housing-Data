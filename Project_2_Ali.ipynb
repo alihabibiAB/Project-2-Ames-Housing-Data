{
 "cells": [
  {
   "cell_type": "markdown",
   "metadata": {},
   "source": [
    "# Importing Pyhton Libraries\n"
   ]
  },
  {
   "cell_type": "code",
   "execution_count": 1,
   "metadata": {},
   "outputs": [],
   "source": [
    "# All necessary librarires are imported.\n",
    "import numpy as np\n",
    "import pandas as pd\n",
    "import matplotlib.pyplot as plt\n",
    "import seaborn as sns\n",
    "import statsmodels as sm\n",
    "\n",
    "from sklearn.linear_model import LinearRegression\n",
    "from sklearn.model_selection import train_test_split,cross_val_score\n",
    "from sklearn.preprocessing import StandardScaler,PolynomialFeatures\n",
    "from sklearn.metrics import r2_score\n",
    "from sklearn.linear_model import LassoCV,RidgeCV\n",
    "\n",
    "from scipy import stats\n",
    "import statsmodels.api as sm\n",
    "\n",
    "%matplotlib inline"
   ]
  },
  {
   "cell_type": "markdown",
   "metadata": {},
   "source": [
    "# Loading Datasets"
   ]
  },
  {
   "cell_type": "code",
   "execution_count": 2,
   "metadata": {},
   "outputs": [],
   "source": [
    "#train and test datasets are loaded.\n",
    "df_test=pd.read_csv(\"./datasets/test.csv\")\n",
    "df_train=pd.read_csv(\"./datasets/train.csv\")\n",
    "df_sample_sub_reg=pd.read_csv(\"./datasets/sample_sub_reg.csv\")"
   ]
  },
  {
   "cell_type": "markdown",
   "metadata": {},
   "source": [
    "# Data Cleaning "
   ]
  },
  {
   "cell_type": "code",
   "execution_count": 3,
   "metadata": {},
   "outputs": [
    {
     "data": {
      "text/html": [
       "<div>\n",
       "<style scoped>\n",
       "    .dataframe tbody tr th:only-of-type {\n",
       "        vertical-align: middle;\n",
       "    }\n",
       "\n",
       "    .dataframe tbody tr th {\n",
       "        vertical-align: top;\n",
       "    }\n",
       "\n",
       "    .dataframe thead th {\n",
       "        text-align: right;\n",
       "    }\n",
       "</style>\n",
       "<table border=\"1\" class=\"dataframe\">\n",
       "  <thead>\n",
       "    <tr style=\"text-align: right;\">\n",
       "      <th></th>\n",
       "      <th>Id</th>\n",
       "      <th>SalePrice</th>\n",
       "    </tr>\n",
       "  </thead>\n",
       "  <tbody>\n",
       "    <tr>\n",
       "      <th>0</th>\n",
       "      <td>2</td>\n",
       "      <td>181479.1217</td>\n",
       "    </tr>\n",
       "    <tr>\n",
       "      <th>1</th>\n",
       "      <td>4</td>\n",
       "      <td>181479.1217</td>\n",
       "    </tr>\n",
       "    <tr>\n",
       "      <th>2</th>\n",
       "      <td>6</td>\n",
       "      <td>181479.1217</td>\n",
       "    </tr>\n",
       "    <tr>\n",
       "      <th>3</th>\n",
       "      <td>7</td>\n",
       "      <td>181479.1217</td>\n",
       "    </tr>\n",
       "    <tr>\n",
       "      <th>4</th>\n",
       "      <td>17</td>\n",
       "      <td>181479.1217</td>\n",
       "    </tr>\n",
       "  </tbody>\n",
       "</table>\n",
       "</div>"
      ],
      "text/plain": [
       "   Id    SalePrice\n",
       "0   2  181479.1217\n",
       "1   4  181479.1217\n",
       "2   6  181479.1217\n",
       "3   7  181479.1217\n",
       "4  17  181479.1217"
      ]
     },
     "execution_count": 3,
     "metadata": {},
     "output_type": "execute_result"
    }
   ],
   "source": [
    "#initial checks\n",
    "df_sample_sub_reg.head()"
   ]
  },
  {
   "cell_type": "code",
   "execution_count": 4,
   "metadata": {},
   "outputs": [
    {
     "data": {
      "text/html": [
       "<div>\n",
       "<style scoped>\n",
       "    .dataframe tbody tr th:only-of-type {\n",
       "        vertical-align: middle;\n",
       "    }\n",
       "\n",
       "    .dataframe tbody tr th {\n",
       "        vertical-align: top;\n",
       "    }\n",
       "\n",
       "    .dataframe thead th {\n",
       "        text-align: right;\n",
       "    }\n",
       "</style>\n",
       "<table border=\"1\" class=\"dataframe\">\n",
       "  <thead>\n",
       "    <tr style=\"text-align: right;\">\n",
       "      <th></th>\n",
       "      <th>Id</th>\n",
       "      <th>PID</th>\n",
       "      <th>MS SubClass</th>\n",
       "      <th>MS Zoning</th>\n",
       "      <th>Lot Frontage</th>\n",
       "      <th>Lot Area</th>\n",
       "      <th>Street</th>\n",
       "      <th>Alley</th>\n",
       "      <th>Lot Shape</th>\n",
       "      <th>Land Contour</th>\n",
       "      <th>...</th>\n",
       "      <th>3Ssn Porch</th>\n",
       "      <th>Screen Porch</th>\n",
       "      <th>Pool Area</th>\n",
       "      <th>Pool QC</th>\n",
       "      <th>Fence</th>\n",
       "      <th>Misc Feature</th>\n",
       "      <th>Misc Val</th>\n",
       "      <th>Mo Sold</th>\n",
       "      <th>Yr Sold</th>\n",
       "      <th>Sale Type</th>\n",
       "    </tr>\n",
       "  </thead>\n",
       "  <tbody>\n",
       "    <tr>\n",
       "      <th>0</th>\n",
       "      <td>2658</td>\n",
       "      <td>902301120</td>\n",
       "      <td>190</td>\n",
       "      <td>RM</td>\n",
       "      <td>69.0</td>\n",
       "      <td>9142</td>\n",
       "      <td>Pave</td>\n",
       "      <td>Grvl</td>\n",
       "      <td>Reg</td>\n",
       "      <td>Lvl</td>\n",
       "      <td>...</td>\n",
       "      <td>0</td>\n",
       "      <td>0</td>\n",
       "      <td>0</td>\n",
       "      <td>NaN</td>\n",
       "      <td>NaN</td>\n",
       "      <td>NaN</td>\n",
       "      <td>0</td>\n",
       "      <td>4</td>\n",
       "      <td>2006</td>\n",
       "      <td>WD</td>\n",
       "    </tr>\n",
       "    <tr>\n",
       "      <th>1</th>\n",
       "      <td>2718</td>\n",
       "      <td>905108090</td>\n",
       "      <td>90</td>\n",
       "      <td>RL</td>\n",
       "      <td>NaN</td>\n",
       "      <td>9662</td>\n",
       "      <td>Pave</td>\n",
       "      <td>NaN</td>\n",
       "      <td>IR1</td>\n",
       "      <td>Lvl</td>\n",
       "      <td>...</td>\n",
       "      <td>0</td>\n",
       "      <td>0</td>\n",
       "      <td>0</td>\n",
       "      <td>NaN</td>\n",
       "      <td>NaN</td>\n",
       "      <td>NaN</td>\n",
       "      <td>0</td>\n",
       "      <td>8</td>\n",
       "      <td>2006</td>\n",
       "      <td>WD</td>\n",
       "    </tr>\n",
       "    <tr>\n",
       "      <th>2</th>\n",
       "      <td>2414</td>\n",
       "      <td>528218130</td>\n",
       "      <td>60</td>\n",
       "      <td>RL</td>\n",
       "      <td>58.0</td>\n",
       "      <td>17104</td>\n",
       "      <td>Pave</td>\n",
       "      <td>NaN</td>\n",
       "      <td>IR1</td>\n",
       "      <td>Lvl</td>\n",
       "      <td>...</td>\n",
       "      <td>0</td>\n",
       "      <td>0</td>\n",
       "      <td>0</td>\n",
       "      <td>NaN</td>\n",
       "      <td>NaN</td>\n",
       "      <td>NaN</td>\n",
       "      <td>0</td>\n",
       "      <td>9</td>\n",
       "      <td>2006</td>\n",
       "      <td>New</td>\n",
       "    </tr>\n",
       "    <tr>\n",
       "      <th>3</th>\n",
       "      <td>1989</td>\n",
       "      <td>902207150</td>\n",
       "      <td>30</td>\n",
       "      <td>RM</td>\n",
       "      <td>60.0</td>\n",
       "      <td>8520</td>\n",
       "      <td>Pave</td>\n",
       "      <td>NaN</td>\n",
       "      <td>Reg</td>\n",
       "      <td>Lvl</td>\n",
       "      <td>...</td>\n",
       "      <td>0</td>\n",
       "      <td>0</td>\n",
       "      <td>0</td>\n",
       "      <td>NaN</td>\n",
       "      <td>NaN</td>\n",
       "      <td>NaN</td>\n",
       "      <td>0</td>\n",
       "      <td>7</td>\n",
       "      <td>2007</td>\n",
       "      <td>WD</td>\n",
       "    </tr>\n",
       "    <tr>\n",
       "      <th>4</th>\n",
       "      <td>625</td>\n",
       "      <td>535105100</td>\n",
       "      <td>20</td>\n",
       "      <td>RL</td>\n",
       "      <td>NaN</td>\n",
       "      <td>9500</td>\n",
       "      <td>Pave</td>\n",
       "      <td>NaN</td>\n",
       "      <td>IR1</td>\n",
       "      <td>Lvl</td>\n",
       "      <td>...</td>\n",
       "      <td>0</td>\n",
       "      <td>185</td>\n",
       "      <td>0</td>\n",
       "      <td>NaN</td>\n",
       "      <td>NaN</td>\n",
       "      <td>NaN</td>\n",
       "      <td>0</td>\n",
       "      <td>7</td>\n",
       "      <td>2009</td>\n",
       "      <td>WD</td>\n",
       "    </tr>\n",
       "  </tbody>\n",
       "</table>\n",
       "<p>5 rows × 80 columns</p>\n",
       "</div>"
      ],
      "text/plain": [
       "     Id        PID  MS SubClass MS Zoning  Lot Frontage  Lot Area Street  \\\n",
       "0  2658  902301120          190        RM          69.0      9142   Pave   \n",
       "1  2718  905108090           90        RL           NaN      9662   Pave   \n",
       "2  2414  528218130           60        RL          58.0     17104   Pave   \n",
       "3  1989  902207150           30        RM          60.0      8520   Pave   \n",
       "4   625  535105100           20        RL           NaN      9500   Pave   \n",
       "\n",
       "  Alley Lot Shape Land Contour  ... 3Ssn Porch Screen Porch Pool Area Pool QC  \\\n",
       "0  Grvl       Reg          Lvl  ...          0            0         0     NaN   \n",
       "1   NaN       IR1          Lvl  ...          0            0         0     NaN   \n",
       "2   NaN       IR1          Lvl  ...          0            0         0     NaN   \n",
       "3   NaN       Reg          Lvl  ...          0            0         0     NaN   \n",
       "4   NaN       IR1          Lvl  ...          0          185         0     NaN   \n",
       "\n",
       "  Fence Misc Feature Misc Val Mo Sold  Yr Sold  Sale Type  \n",
       "0   NaN          NaN        0       4     2006        WD   \n",
       "1   NaN          NaN        0       8     2006        WD   \n",
       "2   NaN          NaN        0       9     2006        New  \n",
       "3   NaN          NaN        0       7     2007        WD   \n",
       "4   NaN          NaN        0       7     2009        WD   \n",
       "\n",
       "[5 rows x 80 columns]"
      ]
     },
     "execution_count": 4,
     "metadata": {},
     "output_type": "execute_result"
    }
   ],
   "source": [
    "df_test.head()"
   ]
  },
  {
   "cell_type": "code",
   "execution_count": 5,
   "metadata": {},
   "outputs": [
    {
     "data": {
      "text/html": [
       "<div>\n",
       "<style scoped>\n",
       "    .dataframe tbody tr th:only-of-type {\n",
       "        vertical-align: middle;\n",
       "    }\n",
       "\n",
       "    .dataframe tbody tr th {\n",
       "        vertical-align: top;\n",
       "    }\n",
       "\n",
       "    .dataframe thead th {\n",
       "        text-align: right;\n",
       "    }\n",
       "</style>\n",
       "<table border=\"1\" class=\"dataframe\">\n",
       "  <thead>\n",
       "    <tr style=\"text-align: right;\">\n",
       "      <th></th>\n",
       "      <th>Id</th>\n",
       "      <th>PID</th>\n",
       "      <th>MS SubClass</th>\n",
       "      <th>MS Zoning</th>\n",
       "      <th>Lot Frontage</th>\n",
       "      <th>Lot Area</th>\n",
       "      <th>Street</th>\n",
       "      <th>Alley</th>\n",
       "      <th>Lot Shape</th>\n",
       "      <th>Land Contour</th>\n",
       "      <th>...</th>\n",
       "      <th>Screen Porch</th>\n",
       "      <th>Pool Area</th>\n",
       "      <th>Pool QC</th>\n",
       "      <th>Fence</th>\n",
       "      <th>Misc Feature</th>\n",
       "      <th>Misc Val</th>\n",
       "      <th>Mo Sold</th>\n",
       "      <th>Yr Sold</th>\n",
       "      <th>Sale Type</th>\n",
       "      <th>SalePrice</th>\n",
       "    </tr>\n",
       "  </thead>\n",
       "  <tbody>\n",
       "    <tr>\n",
       "      <th>0</th>\n",
       "      <td>109</td>\n",
       "      <td>533352170</td>\n",
       "      <td>60</td>\n",
       "      <td>RL</td>\n",
       "      <td>NaN</td>\n",
       "      <td>13517</td>\n",
       "      <td>Pave</td>\n",
       "      <td>NaN</td>\n",
       "      <td>IR1</td>\n",
       "      <td>Lvl</td>\n",
       "      <td>...</td>\n",
       "      <td>0</td>\n",
       "      <td>0</td>\n",
       "      <td>NaN</td>\n",
       "      <td>NaN</td>\n",
       "      <td>NaN</td>\n",
       "      <td>0</td>\n",
       "      <td>3</td>\n",
       "      <td>2010</td>\n",
       "      <td>WD</td>\n",
       "      <td>130500</td>\n",
       "    </tr>\n",
       "    <tr>\n",
       "      <th>1</th>\n",
       "      <td>544</td>\n",
       "      <td>531379050</td>\n",
       "      <td>60</td>\n",
       "      <td>RL</td>\n",
       "      <td>43.0</td>\n",
       "      <td>11492</td>\n",
       "      <td>Pave</td>\n",
       "      <td>NaN</td>\n",
       "      <td>IR1</td>\n",
       "      <td>Lvl</td>\n",
       "      <td>...</td>\n",
       "      <td>0</td>\n",
       "      <td>0</td>\n",
       "      <td>NaN</td>\n",
       "      <td>NaN</td>\n",
       "      <td>NaN</td>\n",
       "      <td>0</td>\n",
       "      <td>4</td>\n",
       "      <td>2009</td>\n",
       "      <td>WD</td>\n",
       "      <td>220000</td>\n",
       "    </tr>\n",
       "    <tr>\n",
       "      <th>2</th>\n",
       "      <td>153</td>\n",
       "      <td>535304180</td>\n",
       "      <td>20</td>\n",
       "      <td>RL</td>\n",
       "      <td>68.0</td>\n",
       "      <td>7922</td>\n",
       "      <td>Pave</td>\n",
       "      <td>NaN</td>\n",
       "      <td>Reg</td>\n",
       "      <td>Lvl</td>\n",
       "      <td>...</td>\n",
       "      <td>0</td>\n",
       "      <td>0</td>\n",
       "      <td>NaN</td>\n",
       "      <td>NaN</td>\n",
       "      <td>NaN</td>\n",
       "      <td>0</td>\n",
       "      <td>1</td>\n",
       "      <td>2010</td>\n",
       "      <td>WD</td>\n",
       "      <td>109000</td>\n",
       "    </tr>\n",
       "    <tr>\n",
       "      <th>3</th>\n",
       "      <td>318</td>\n",
       "      <td>916386060</td>\n",
       "      <td>60</td>\n",
       "      <td>RL</td>\n",
       "      <td>73.0</td>\n",
       "      <td>9802</td>\n",
       "      <td>Pave</td>\n",
       "      <td>NaN</td>\n",
       "      <td>Reg</td>\n",
       "      <td>Lvl</td>\n",
       "      <td>...</td>\n",
       "      <td>0</td>\n",
       "      <td>0</td>\n",
       "      <td>NaN</td>\n",
       "      <td>NaN</td>\n",
       "      <td>NaN</td>\n",
       "      <td>0</td>\n",
       "      <td>4</td>\n",
       "      <td>2010</td>\n",
       "      <td>WD</td>\n",
       "      <td>174000</td>\n",
       "    </tr>\n",
       "    <tr>\n",
       "      <th>4</th>\n",
       "      <td>255</td>\n",
       "      <td>906425045</td>\n",
       "      <td>50</td>\n",
       "      <td>RL</td>\n",
       "      <td>82.0</td>\n",
       "      <td>14235</td>\n",
       "      <td>Pave</td>\n",
       "      <td>NaN</td>\n",
       "      <td>IR1</td>\n",
       "      <td>Lvl</td>\n",
       "      <td>...</td>\n",
       "      <td>0</td>\n",
       "      <td>0</td>\n",
       "      <td>NaN</td>\n",
       "      <td>NaN</td>\n",
       "      <td>NaN</td>\n",
       "      <td>0</td>\n",
       "      <td>3</td>\n",
       "      <td>2010</td>\n",
       "      <td>WD</td>\n",
       "      <td>138500</td>\n",
       "    </tr>\n",
       "  </tbody>\n",
       "</table>\n",
       "<p>5 rows × 81 columns</p>\n",
       "</div>"
      ],
      "text/plain": [
       "    Id        PID  MS SubClass MS Zoning  Lot Frontage  Lot Area Street Alley  \\\n",
       "0  109  533352170           60        RL           NaN     13517   Pave   NaN   \n",
       "1  544  531379050           60        RL          43.0     11492   Pave   NaN   \n",
       "2  153  535304180           20        RL          68.0      7922   Pave   NaN   \n",
       "3  318  916386060           60        RL          73.0      9802   Pave   NaN   \n",
       "4  255  906425045           50        RL          82.0     14235   Pave   NaN   \n",
       "\n",
       "  Lot Shape Land Contour  ... Screen Porch Pool Area Pool QC Fence  \\\n",
       "0       IR1          Lvl  ...            0         0     NaN   NaN   \n",
       "1       IR1          Lvl  ...            0         0     NaN   NaN   \n",
       "2       Reg          Lvl  ...            0         0     NaN   NaN   \n",
       "3       Reg          Lvl  ...            0         0     NaN   NaN   \n",
       "4       IR1          Lvl  ...            0         0     NaN   NaN   \n",
       "\n",
       "  Misc Feature Misc Val Mo Sold Yr Sold  Sale Type  SalePrice  \n",
       "0          NaN        0       3    2010        WD      130500  \n",
       "1          NaN        0       4    2009        WD      220000  \n",
       "2          NaN        0       1    2010        WD      109000  \n",
       "3          NaN        0       4    2010        WD      174000  \n",
       "4          NaN        0       3    2010        WD      138500  \n",
       "\n",
       "[5 rows x 81 columns]"
      ]
     },
     "execution_count": 5,
     "metadata": {},
     "output_type": "execute_result"
    }
   ],
   "source": [
    "df_train.head()"
   ]
  },
  {
   "cell_type": "code",
   "execution_count": 6,
   "metadata": {},
   "outputs": [
    {
     "data": {
      "text/plain": [
       "Id                int64\n",
       "PID               int64\n",
       "MS SubClass       int64\n",
       "MS Zoning        object\n",
       "Lot Frontage    float64\n",
       "                 ...   \n",
       "Misc Feature     object\n",
       "Misc Val          int64\n",
       "Mo Sold           int64\n",
       "Yr Sold           int64\n",
       "Sale Type        object\n",
       "Length: 80, dtype: object"
      ]
     },
     "execution_count": 6,
     "metadata": {},
     "output_type": "execute_result"
    }
   ],
   "source": [
    "df_test.dtypes"
   ]
  },
  {
   "cell_type": "code",
   "execution_count": 7,
   "metadata": {},
   "outputs": [
    {
     "name": "stdout",
     "output_type": "stream",
     "text": [
      "<class 'pandas.core.frame.DataFrame'>\n",
      "RangeIndex: 2051 entries, 0 to 2050\n",
      "Data columns (total 81 columns):\n",
      " #   Column           Non-Null Count  Dtype  \n",
      "---  ------           --------------  -----  \n",
      " 0   Id               2051 non-null   int64  \n",
      " 1   PID              2051 non-null   int64  \n",
      " 2   MS SubClass      2051 non-null   int64  \n",
      " 3   MS Zoning        2051 non-null   object \n",
      " 4   Lot Frontage     1721 non-null   float64\n",
      " 5   Lot Area         2051 non-null   int64  \n",
      " 6   Street           2051 non-null   object \n",
      " 7   Alley            140 non-null    object \n",
      " 8   Lot Shape        2051 non-null   object \n",
      " 9   Land Contour     2051 non-null   object \n",
      " 10  Utilities        2051 non-null   object \n",
      " 11  Lot Config       2051 non-null   object \n",
      " 12  Land Slope       2051 non-null   object \n",
      " 13  Neighborhood     2051 non-null   object \n",
      " 14  Condition 1      2051 non-null   object \n",
      " 15  Condition 2      2051 non-null   object \n",
      " 16  Bldg Type        2051 non-null   object \n",
      " 17  House Style      2051 non-null   object \n",
      " 18  Overall Qual     2051 non-null   int64  \n",
      " 19  Overall Cond     2051 non-null   int64  \n",
      " 20  Year Built       2051 non-null   int64  \n",
      " 21  Year Remod/Add   2051 non-null   int64  \n",
      " 22  Roof Style       2051 non-null   object \n",
      " 23  Roof Matl        2051 non-null   object \n",
      " 24  Exterior 1st     2051 non-null   object \n",
      " 25  Exterior 2nd     2051 non-null   object \n",
      " 26  Mas Vnr Type     2029 non-null   object \n",
      " 27  Mas Vnr Area     2029 non-null   float64\n",
      " 28  Exter Qual       2051 non-null   object \n",
      " 29  Exter Cond       2051 non-null   object \n",
      " 30  Foundation       2051 non-null   object \n",
      " 31  Bsmt Qual        1996 non-null   object \n",
      " 32  Bsmt Cond        1996 non-null   object \n",
      " 33  Bsmt Exposure    1993 non-null   object \n",
      " 34  BsmtFin Type 1   1996 non-null   object \n",
      " 35  BsmtFin SF 1     2050 non-null   float64\n",
      " 36  BsmtFin Type 2   1995 non-null   object \n",
      " 37  BsmtFin SF 2     2050 non-null   float64\n",
      " 38  Bsmt Unf SF      2050 non-null   float64\n",
      " 39  Total Bsmt SF    2050 non-null   float64\n",
      " 40  Heating          2051 non-null   object \n",
      " 41  Heating QC       2051 non-null   object \n",
      " 42  Central Air      2051 non-null   object \n",
      " 43  Electrical       2051 non-null   object \n",
      " 44  1st Flr SF       2051 non-null   int64  \n",
      " 45  2nd Flr SF       2051 non-null   int64  \n",
      " 46  Low Qual Fin SF  2051 non-null   int64  \n",
      " 47  Gr Liv Area      2051 non-null   int64  \n",
      " 48  Bsmt Full Bath   2049 non-null   float64\n",
      " 49  Bsmt Half Bath   2049 non-null   float64\n",
      " 50  Full Bath        2051 non-null   int64  \n",
      " 51  Half Bath        2051 non-null   int64  \n",
      " 52  Bedroom AbvGr    2051 non-null   int64  \n",
      " 53  Kitchen AbvGr    2051 non-null   int64  \n",
      " 54  Kitchen Qual     2051 non-null   object \n",
      " 55  TotRms AbvGrd    2051 non-null   int64  \n",
      " 56  Functional       2051 non-null   object \n",
      " 57  Fireplaces       2051 non-null   int64  \n",
      " 58  Fireplace Qu     1051 non-null   object \n",
      " 59  Garage Type      1938 non-null   object \n",
      " 60  Garage Yr Blt    1937 non-null   float64\n",
      " 61  Garage Finish    1937 non-null   object \n",
      " 62  Garage Cars      2050 non-null   float64\n",
      " 63  Garage Area      2050 non-null   float64\n",
      " 64  Garage Qual      1937 non-null   object \n",
      " 65  Garage Cond      1937 non-null   object \n",
      " 66  Paved Drive      2051 non-null   object \n",
      " 67  Wood Deck SF     2051 non-null   int64  \n",
      " 68  Open Porch SF    2051 non-null   int64  \n",
      " 69  Enclosed Porch   2051 non-null   int64  \n",
      " 70  3Ssn Porch       2051 non-null   int64  \n",
      " 71  Screen Porch     2051 non-null   int64  \n",
      " 72  Pool Area        2051 non-null   int64  \n",
      " 73  Pool QC          9 non-null      object \n",
      " 74  Fence            400 non-null    object \n",
      " 75  Misc Feature     65 non-null     object \n",
      " 76  Misc Val         2051 non-null   int64  \n",
      " 77  Mo Sold          2051 non-null   int64  \n",
      " 78  Yr Sold          2051 non-null   int64  \n",
      " 79  Sale Type        2051 non-null   object \n",
      " 80  SalePrice        2051 non-null   int64  \n",
      "dtypes: float64(11), int64(28), object(42)\n",
      "memory usage: 1.3+ MB\n"
     ]
    }
   ],
   "source": [
    "df_train.info()"
   ]
  },
  {
   "cell_type": "markdown",
   "metadata": {},
   "source": [
    "## Cleaning numerical columns of the training dataset"
   ]
  },
  {
   "cell_type": "code",
   "execution_count": 8,
   "metadata": {},
   "outputs": [],
   "source": [
    "# A list of numeric column from training dataset is created. \n",
    "types_numeric=[column for column in list(df_train.columns) if df_train[column].dtypes!='object']\n"
   ]
  },
  {
   "cell_type": "code",
   "execution_count": 9,
   "metadata": {},
   "outputs": [],
   "source": [
    "# Here columns from training dataset are deleted when more than 1000 rows of them are missed. \n",
    "\n",
    "pd.DataFrame(df_train.isnull().sum().sort_values(ascending=False)).head(25)\n",
    "df_train.drop(['Pool QC','Misc Feature','Alley','Fence','Fireplace Qu'], axis=1, inplace=True)\n"
   ]
  },
  {
   "cell_type": "code",
   "execution_count": 10,
   "metadata": {},
   "outputs": [
    {
     "data": {
      "text/plain": [
       "[{'Lot Frontage': 330},\n",
       " {'Mas Vnr Area': 22},\n",
       " {'BsmtFin SF 1': 1},\n",
       " {'BsmtFin SF 2': 1},\n",
       " {'Bsmt Unf SF': 1},\n",
       " {'Total Bsmt SF': 1},\n",
       " {'Bsmt Full Bath': 2},\n",
       " {'Bsmt Half Bath': 2},\n",
       " {'Garage Yr Blt': 114},\n",
       " {'Garage Cars': 1},\n",
       " {'Garage Area': 1}]"
      ]
     },
     "execution_count": 10,
     "metadata": {},
     "output_type": "execute_result"
    }
   ],
   "source": [
    "# Here null numeric columns of the training dataset are determined.  \n",
    "num_null_train=[{column:df_train[column].isnull().sum()} for column in types_numeric if df_train[column].isnull().sum()!=0]\n",
    "num_null_train_plus=[column for column in types_numeric if df_train[column].isnull().sum()!=0] \n",
    "num_null_train"
   ]
  },
  {
   "cell_type": "code",
   "execution_count": 11,
   "metadata": {},
   "outputs": [
    {
     "data": {
      "image/png": "[encoded data removed]",
      "text/plain": [
       "<Figure size 432x288 with 1 Axes>"
      ]
     },
     "metadata": {
      "needs_background": "light"
     },
     "output_type": "display_data"
    }
   ],
   "source": [
    "# To understand how to deal with null cells of these columns, histograms and description of these columns are studied. \n",
    "plt.hist(df_train['Lot Frontage']);"
   ]
  },
  {
   "cell_type": "code",
   "execution_count": 12,
   "metadata": {},
   "outputs": [
    {
     "data": {
      "text/plain": [
       "count    1721.000000\n",
       "mean       69.055200\n",
       "std        23.260653\n",
       "min        21.000000\n",
       "25%        58.000000\n",
       "50%        68.000000\n",
       "75%        80.000000\n",
       "max       313.000000\n",
       "Name: Lot Frontage, dtype: float64"
      ]
     },
     "execution_count": 12,
     "metadata": {},
     "output_type": "execute_result"
    }
   ],
   "source": [
    "df_train['Lot Frontage'].describe()"
   ]
  },
  {
   "cell_type": "markdown",
   "metadata": {},
   "source": [
    "Since the mean and median values for this column are very close to each other and most data points are close to mean/median, the null cells are filled by mean value of this column. "
   ]
  },
  {
   "cell_type": "code",
   "execution_count": 13,
   "metadata": {},
   "outputs": [],
   "source": [
    "df_train['Lot Frontage'].fillna(df_train['Lot Frontage'].mean(),inplace=True)"
   ]
  },
  {
   "cell_type": "code",
   "execution_count": 14,
   "metadata": {},
   "outputs": [
    {
     "data": {
      "image/png": "[encoded data removed]",
      "text/plain": [
       "<Figure size 432x288 with 1 Axes>"
      ]
     },
     "metadata": {
      "needs_background": "light"
     },
     "output_type": "display_data"
    }
   ],
   "source": [
    "plt.hist(df_train['Mas Vnr Area'],bins=50, range=[1,1600]);"
   ]
  },
  {
   "cell_type": "code",
   "execution_count": 15,
   "metadata": {},
   "outputs": [
    {
     "data": {
      "image/png": "[encoded data removed]",
      "text/plain": [
       "<Figure size 432x288 with 1 Axes>"
      ]
     },
     "metadata": {
      "needs_background": "light"
     },
     "output_type": "display_data"
    }
   ],
   "source": [
    "plt.hist(df_train['Mas Vnr Area'],bins=20, range=[0,1]);"
   ]
  },
  {
   "cell_type": "code",
   "execution_count": 16,
   "metadata": {},
   "outputs": [
    {
     "data": {
      "text/plain": [
       "count    2029.000000\n",
       "mean       99.695909\n",
       "std       174.963129\n",
       "min         0.000000\n",
       "25%         0.000000\n",
       "50%         0.000000\n",
       "75%       161.000000\n",
       "max      1600.000000\n",
       "Name: Mas Vnr Area, dtype: float64"
      ]
     },
     "execution_count": 16,
     "metadata": {},
     "output_type": "execute_result"
    }
   ],
   "source": [
    "df_train['Mas Vnr Area'].describe()"
   ]
  },
  {
   "cell_type": "markdown",
   "metadata": {},
   "source": [
    "Since about 1200 cells are filled with zero and median is zero for this column, the null cells are filled with median."
   ]
  },
  {
   "cell_type": "code",
   "execution_count": 17,
   "metadata": {},
   "outputs": [],
   "source": [
    "df_train['Mas Vnr Area'].fillna(df_train['Mas Vnr Area'].median(),inplace=True)"
   ]
  },
  {
   "cell_type": "code",
   "execution_count": 18,
   "metadata": {},
   "outputs": [
    {
     "data": {
      "text/plain": [
       "array([1976., 1997., 1953., 2007., 1957., 1966., 2005., 1959., 1952.,\n",
       "       1969., 1971., 1900., 2000., 2004., 1916., 1963., 1977., 2009.,\n",
       "       1968., 1992., 1955., 1961., 1973., 1937.,   nan, 2003., 1981.,\n",
       "       1931., 1995., 1958., 1965., 2006., 1978., 1954., 1935., 1951.,\n",
       "       1996., 1999., 1920., 1930., 1924., 1960., 1949., 1986., 1956.,\n",
       "       1994., 1979., 1964., 2001., 1972., 1939., 1962., 1927., 1948.,\n",
       "       1967., 1993., 2010., 1915., 1987., 1970., 1988., 1982., 1941.,\n",
       "       1984., 1942., 1950., 2002., 1975., 2008., 1974., 1998., 1918.,\n",
       "       1938., 1985., 1923., 1980., 1991., 1946., 1940., 1990., 1896.,\n",
       "       1983., 1914., 1945., 1921., 1925., 1926., 1936., 1932., 1947.,\n",
       "       1929., 1910., 1917., 1922., 1934., 1989., 1928., 2207., 1933.,\n",
       "       1895., 1919.])"
      ]
     },
     "execution_count": 18,
     "metadata": {},
     "output_type": "execute_result"
    }
   ],
   "source": [
    "df_train['Garage Yr Blt'].unique()"
   ]
  },
  {
   "cell_type": "code",
   "execution_count": 19,
   "metadata": {},
   "outputs": [
    {
     "data": {
      "image/png": "[encoded data removed]",
      "text/plain": [
       "<Figure size 432x288 with 1 Axes>"
      ]
     },
     "metadata": {
      "needs_background": "light"
     },
     "output_type": "display_data"
    }
   ],
   "source": [
    "plt.hist(df_train['Garage Yr Blt'],bins=50);"
   ]
  },
  {
   "cell_type": "code",
   "execution_count": 20,
   "metadata": {},
   "outputs": [
    {
     "data": {
      "text/plain": [
       "count    1937.000000\n",
       "mean     1978.707796\n",
       "std        25.441094\n",
       "min      1895.000000\n",
       "25%      1961.000000\n",
       "50%      1980.000000\n",
       "75%      2002.000000\n",
       "max      2207.000000\n",
       "Name: Garage Yr Blt, dtype: float64"
      ]
     },
     "execution_count": 20,
     "metadata": {},
     "output_type": "execute_result"
    }
   ],
   "source": [
    "df_train['Garage Yr Blt'].describe()"
   ]
  },
  {
   "cell_type": "code",
   "execution_count": 21,
   "metadata": {},
   "outputs": [
    {
     "data": {
      "image/png": "[encoded data removed]",
      "text/plain": [
       "<Figure size 432x288 with 1 Axes>"
      ]
     },
     "metadata": {
      "needs_background": "light"
     },
     "output_type": "display_data"
    }
   ],
   "source": [
    "plt.hist(df_train['Garage Yr Blt'],bins=50, range=[1895,2010]);"
   ]
  },
  {
   "cell_type": "markdown",
   "metadata": {},
   "source": [
    "Here the null cells are filled with median. "
   ]
  },
  {
   "cell_type": "code",
   "execution_count": 22,
   "metadata": {},
   "outputs": [],
   "source": [
    "df_train['Garage Yr Blt'].fillna(df_train['Garage Yr Blt'].median(),inplace=True)\n"
   ]
  },
  {
   "cell_type": "markdown",
   "metadata": {},
   "source": [
    "## Cleaning object data type "
   ]
  },
  {
   "cell_type": "code",
   "execution_count": 23,
   "metadata": {},
   "outputs": [],
   "source": [
    "# A list of object column from the training dataset is created. \n",
    "types_object=[column for column in list(df_train.columns) if df_train[column].dtypes=='object']"
   ]
  },
  {
   "cell_type": "code",
   "execution_count": 24,
   "metadata": {},
   "outputs": [
    {
     "data": {
      "text/plain": [
       "[{'Mas Vnr Type': 22},\n",
       " {'Bsmt Qual': 55},\n",
       " {'Bsmt Cond': 55},\n",
       " {'Bsmt Exposure': 58},\n",
       " {'BsmtFin Type 1': 55},\n",
       " {'BsmtFin Type 2': 56},\n",
       " {'Garage Type': 113},\n",
       " {'Garage Finish': 114},\n",
       " {'Garage Qual': 114},\n",
       " {'Garage Cond': 114}]"
      ]
     },
     "execution_count": 24,
     "metadata": {},
     "output_type": "execute_result"
    }
   ],
   "source": [
    "# Here null object columns of the training dataset are determined.  \n",
    "obj_null_train=[{column:df_train[column].isnull().sum()} for column in types_object if df_train[column].isnull().sum()!=0] \n",
    "obj_null_train_plus=[column for column in types_object if df_train[column].isnull().sum()!=0] \n",
    "obj_null_train"
   ]
  },
  {
   "cell_type": "markdown",
   "metadata": {},
   "source": [
    "The null cells in all object-type columns are filled with the most common class in a desired column. "
   ]
  },
  {
   "cell_type": "code",
   "execution_count": 25,
   "metadata": {},
   "outputs": [],
   "source": [
    "[df_train[item].fillna(df_train[item].value_counts().index[0], inplace=True) for item in obj_null_train_plus];"
   ]
  },
  {
   "cell_type": "code",
   "execution_count": 26,
   "metadata": {},
   "outputs": [],
   "source": [
    "# Finally, the rest of null cells is dropped. \n",
    "df_train.dropna(inplace=True)"
   ]
  },
  {
   "cell_type": "code",
   "execution_count": 27,
   "metadata": {},
   "outputs": [
    {
     "name": "stdout",
     "output_type": "stream",
     "text": [
      "<class 'pandas.core.frame.DataFrame'>\n",
      "Int64Index: 2048 entries, 0 to 2050\n",
      "Data columns (total 76 columns):\n",
      " #   Column           Non-Null Count  Dtype  \n",
      "---  ------           --------------  -----  \n",
      " 0   Id               2048 non-null   int64  \n",
      " 1   PID              2048 non-null   int64  \n",
      " 2   MS SubClass      2048 non-null   int64  \n",
      " 3   MS Zoning        2048 non-null   object \n",
      " 4   Lot Frontage     2048 non-null   float64\n",
      " 5   Lot Area         2048 non-null   int64  \n",
      " 6   Street           2048 non-null   object \n",
      " 7   Lot Shape        2048 non-null   object \n",
      " 8   Land Contour     2048 non-null   object \n",
      " 9   Utilities        2048 non-null   object \n",
      " 10  Lot Config       2048 non-null   object \n",
      " 11  Land Slope       2048 non-null   object \n",
      " 12  Neighborhood     2048 non-null   object \n",
      " 13  Condition 1      2048 non-null   object \n",
      " 14  Condition 2      2048 non-null   object \n",
      " 15  Bldg Type        2048 non-null   object \n",
      " 16  House Style      2048 non-null   object \n",
      " 17  Overall Qual     2048 non-null   int64  \n",
      " 18  Overall Cond     2048 non-null   int64  \n",
      " 19  Year Built       2048 non-null   int64  \n",
      " 20  Year Remod/Add   2048 non-null   int64  \n",
      " 21  Roof Style       2048 non-null   object \n",
      " 22  Roof Matl        2048 non-null   object \n",
      " 23  Exterior 1st     2048 non-null   object \n",
      " 24  Exterior 2nd     2048 non-null   object \n",
      " 25  Mas Vnr Type     2048 non-null   object \n",
      " 26  Mas Vnr Area     2048 non-null   float64\n",
      " 27  Exter Qual       2048 non-null   object \n",
      " 28  Exter Cond       2048 non-null   object \n",
      " 29  Foundation       2048 non-null   object \n",
      " 30  Bsmt Qual        2048 non-null   object \n",
      " 31  Bsmt Cond        2048 non-null   object \n",
      " 32  Bsmt Exposure    2048 non-null   object \n",
      " 33  BsmtFin Type 1   2048 non-null   object \n",
      " 34  BsmtFin SF 1     2048 non-null   float64\n",
      " 35  BsmtFin Type 2   2048 non-null   object \n",
      " 36  BsmtFin SF 2     2048 non-null   float64\n",
      " 37  Bsmt Unf SF      2048 non-null   float64\n",
      " 38  Total Bsmt SF    2048 non-null   float64\n",
      " 39  Heating          2048 non-null   object \n",
      " 40  Heating QC       2048 non-null   object \n",
      " 41  Central Air      2048 non-null   object \n",
      " 42  Electrical       2048 non-null   object \n",
      " 43  1st Flr SF       2048 non-null   int64  \n",
      " 44  2nd Flr SF       2048 non-null   int64  \n",
      " 45  Low Qual Fin SF  2048 non-null   int64  \n",
      " 46  Gr Liv Area      2048 non-null   int64  \n",
      " 47  Bsmt Full Bath   2048 non-null   float64\n",
      " 48  Bsmt Half Bath   2048 non-null   float64\n",
      " 49  Full Bath        2048 non-null   int64  \n",
      " 50  Half Bath        2048 non-null   int64  \n",
      " 51  Bedroom AbvGr    2048 non-null   int64  \n",
      " 52  Kitchen AbvGr    2048 non-null   int64  \n",
      " 53  Kitchen Qual     2048 non-null   object \n",
      " 54  TotRms AbvGrd    2048 non-null   int64  \n",
      " 55  Functional       2048 non-null   object \n",
      " 56  Fireplaces       2048 non-null   int64  \n",
      " 57  Garage Type      2048 non-null   object \n",
      " 58  Garage Yr Blt    2048 non-null   float64\n",
      " 59  Garage Finish    2048 non-null   object \n",
      " 60  Garage Cars      2048 non-null   float64\n",
      " 61  Garage Area      2048 non-null   float64\n",
      " 62  Garage Qual      2048 non-null   object \n",
      " 63  Garage Cond      2048 non-null   object \n",
      " 64  Paved Drive      2048 non-null   object \n",
      " 65  Wood Deck SF     2048 non-null   int64  \n",
      " 66  Open Porch SF    2048 non-null   int64  \n",
      " 67  Enclosed Porch   2048 non-null   int64  \n",
      " 68  3Ssn Porch       2048 non-null   int64  \n",
      " 69  Screen Porch     2048 non-null   int64  \n",
      " 70  Pool Area        2048 non-null   int64  \n",
      " 71  Misc Val         2048 non-null   int64  \n",
      " 72  Mo Sold          2048 non-null   int64  \n",
      " 73  Yr Sold          2048 non-null   int64  \n",
      " 74  Sale Type        2048 non-null   object \n",
      " 75  SalePrice        2048 non-null   int64  \n",
      "dtypes: float64(11), int64(28), object(37)\n",
      "memory usage: 1.2+ MB\n"
     ]
    }
   ],
   "source": [
    "# Last check of training dataset.\n",
    "df_train.info()"
   ]
  },
  {
   "cell_type": "markdown",
   "metadata": {},
   "source": [
    "# Feature Engineering "
   ]
  },
  {
   "cell_type": "code",
   "execution_count": 28,
   "metadata": {},
   "outputs": [],
   "source": [
    "# Here highest correlation between [Saleprice] and other numerical parameters are determined. \n",
    "# Criteria is based on Pearson correlation more than 0.3 \n",
    "df_train_corr=df_train.corr()"
   ]
  },
  {
   "cell_type": "code",
   "execution_count": 29,
   "metadata": {},
   "outputs": [
    {
     "data": {
      "text/plain": [
       "[{'Lot Frontage': 0.32596987179136205},\n",
       " {'Overall Qual': 0.8009752830035589},\n",
       " {'Year Built': 0.5722564109700342},\n",
       " {'Year Remod/Add': 0.5500553081272338},\n",
       " {'Mas Vnr Area': 0.504025290622299},\n",
       " {'BsmtFin SF 1': 0.4244633970616892},\n",
       " {'Total Bsmt SF': 0.6315072266500499},\n",
       " {'1st Flr SF': 0.6211813717335816},\n",
       " {'Gr Liv Area': 0.6980461693623491},\n",
       " {'Full Bath': 0.537368950577711},\n",
       " {'TotRms AbvGrd': 0.5029091798633167},\n",
       " {'Fireplaces': 0.47009124406852165},\n",
       " {'Garage Yr Blt': 0.5143601292059208},\n",
       " {'Garage Cars': 0.6481029335350884},\n",
       " {'Garage Area': 0.6500003061735466},\n",
       " {'Wood Deck SF': 0.3270068944871525},\n",
       " {'Open Porch SF': 0.33209046069565834},\n",
       " {'SalePrice': 1.0}]"
      ]
     },
     "execution_count": 29,
     "metadata": {},
     "output_type": "execute_result"
    }
   ],
   "source": [
    "[{df_train_corr['SalePrice'].index[i]: df_train_corr['SalePrice'].values[i]}\n",
    " for i in range (0, len(df_train_corr['SalePrice'])) if np.absolute(df_train_corr['SalePrice'].values[i])>=0.3]"
   ]
  },
  {
   "cell_type": "code",
   "execution_count": 30,
   "metadata": {},
   "outputs": [],
   "source": [
    "# Now, we need to dummify categorical parameters to evaluate the correlation between these parameters and [SalePrice]. "
   ]
  },
  {
   "cell_type": "code",
   "execution_count": 31,
   "metadata": {
    "scrolled": true
   },
   "outputs": [
    {
     "data": {
      "text/plain": [
       "[           SalePrice\n",
       " MS Zoning           \n",
       " A (agr)            2\n",
       " C (all)           19\n",
       " FV               101\n",
       " I (all)            1\n",
       " RH                14\n",
       " RL              1597\n",
       " RM               314,\n",
       "         SalePrice\n",
       " Street           \n",
       " Grvl            7\n",
       " Pave         2041,\n",
       "            SalePrice\n",
       " Lot Shape           \n",
       " IR1              690\n",
       " IR2               55\n",
       " IR3                9\n",
       " Reg             1294,\n",
       "               SalePrice\n",
       " Land Contour           \n",
       " Bnk                  80\n",
       " HLS                  85\n",
       " Low                  43\n",
       " Lvl                1840,\n",
       "            SalePrice\n",
       " Utilities           \n",
       " AllPub          2046\n",
       " NoSeWa             1\n",
       " NoSewr             1,\n",
       "             SalePrice\n",
       " Lot Config           \n",
       " Corner            348\n",
       " CulDSac           131\n",
       " FR2                60\n",
       " FR3                 8\n",
       " Inside           1501,\n",
       "             SalePrice\n",
       " Land Slope           \n",
       " Gtl              1950\n",
       " Mod                88\n",
       " Sev                10,\n",
       "               SalePrice\n",
       " Neighborhood           \n",
       " Blmngtn              22\n",
       " Blueste               6\n",
       " BrDale               19\n",
       " BrkSide              75\n",
       " ClearCr              27\n",
       " CollgCr             180\n",
       " Crawfor              71\n",
       " Edwards             142\n",
       " Gilbert             116\n",
       " Greens                3\n",
       " GrnHill               2\n",
       " IDOTRR               68\n",
       " Landmrk               1\n",
       " MeadowV              24\n",
       " Mitchel              82\n",
       " NAmes               310\n",
       " NPkVill              17\n",
       " NWAmes               87\n",
       " NoRidge              48\n",
       " NridgHt             122\n",
       " OldTown             163\n",
       " SWISU                32\n",
       " Sawyer              111\n",
       " SawyerW              87\n",
       " Somerst             130\n",
       " StoneBr              38\n",
       " Timber               48\n",
       " Veenker              17,\n",
       "              SalePrice\n",
       " Condition 1           \n",
       " Artery              70\n",
       " Feedr              108\n",
       " Norm              1765\n",
       " PosA                12\n",
       " PosN                27\n",
       " RRAe                21\n",
       " RRAn                36\n",
       " RRNe                 3\n",
       " RRNn                 6,\n",
       "              SalePrice\n",
       " Condition 2           \n",
       " Artery               5\n",
       " Feedr               11\n",
       " Norm              2022\n",
       " PosA                 3\n",
       " PosN                 3\n",
       " RRAe                 1\n",
       " RRAn                 1\n",
       " RRNn                 2,\n",
       "            SalePrice\n",
       " Bldg Type           \n",
       " 1Fam            1697\n",
       " 2fmCon            46\n",
       " Duplex            75\n",
       " Twnhs             69\n",
       " TwnhsE           161,\n",
       "              SalePrice\n",
       " House Style           \n",
       " 1.5Fin             218\n",
       " 1.5Unf              12\n",
       " 1Story            1057\n",
       " 2.5Fin               6\n",
       " 2.5Unf              14\n",
       " 2Story             597\n",
       " SFoyer              50\n",
       " SLvl                94,\n",
       "             SalePrice\n",
       " Roof Style           \n",
       " Flat               13\n",
       " Gable            1616\n",
       " Gambrel            12\n",
       " Hip               397\n",
       " Mansard             7\n",
       " Shed                3,\n",
       "            SalePrice\n",
       " Roof Matl           \n",
       " ClyTile            1\n",
       " CompShg         2022\n",
       " Membran            1\n",
       " Tar&Grv           15\n",
       " WdShake            4\n",
       " WdShngl            5,\n",
       "               SalePrice\n",
       " Exterior 1st           \n",
       " AsbShng              33\n",
       " AsphShn               1\n",
       " BrkComm               3\n",
       " BrkFace              64\n",
       " CBlock                2\n",
       " CemntBd              90\n",
       " HdBoard             300\n",
       " ImStucc               1\n",
       " MetalSd             330\n",
       " Plywood             151\n",
       " Stone                 2\n",
       " Stucco               27\n",
       " VinylSd             724\n",
       " Wd Sdng             275\n",
       " WdShing              45,\n",
       "               SalePrice\n",
       " Exterior 2nd           \n",
       " AsbShng              28\n",
       " AsphShn               3\n",
       " Brk Cmn              17\n",
       " BrkFace              34\n",
       " CBlock                1\n",
       " CmentBd              90\n",
       " HdBoard             275\n",
       " ImStucc              11\n",
       " MetalSd             324\n",
       " Plywood             183\n",
       " Stone                 6\n",
       " Stucco               30\n",
       " VinylSd             721\n",
       " Wd Sdng             262\n",
       " Wd Shng              63,\n",
       "               SalePrice\n",
       " Mas Vnr Type           \n",
       " BrkCmn               13\n",
       " BrkFace             630\n",
       " None               1237\n",
       " Stone               168,\n",
       "             SalePrice\n",
       " Exter Qual           \n",
       " Ex                 81\n",
       " Fa                 26\n",
       " Gd                697\n",
       " TA               1244,\n",
       "             SalePrice\n",
       " Exter Cond           \n",
       " Ex                  7\n",
       " Fa                 49\n",
       " Gd                215\n",
       " Po                  2\n",
       " TA               1775,\n",
       "             SalePrice\n",
       " Foundation           \n",
       " BrkTil            220\n",
       " CBlock            863\n",
       " PConc             925\n",
       " Slab               33\n",
       " Stone               5\n",
       " Wood                2,\n",
       "            SalePrice\n",
       " Bsmt Qual           \n",
       " Ex               184\n",
       " Fa                60\n",
       " Gd               863\n",
       " Po                 1\n",
       " TA               940,\n",
       "            SalePrice\n",
       " Bsmt Cond           \n",
       " Ex                 3\n",
       " Fa                65\n",
       " Gd                89\n",
       " Po                 5\n",
       " TA              1886,\n",
       "                SalePrice\n",
       " Bsmt Exposure           \n",
       " Av                   288\n",
       " Gd                   203\n",
       " Mn                   163\n",
       " No                  1394,\n",
       "                 SalePrice\n",
       " BsmtFin Type 1           \n",
       " ALQ                   292\n",
       " BLQ                   200\n",
       " GLQ                   668\n",
       " LwQ                   102\n",
       " Rec                   183\n",
       " Unf                   603,\n",
       "                 SalePrice\n",
       " BsmtFin Type 2           \n",
       " ALQ                    35\n",
       " BLQ                    48\n",
       " GLQ                    23\n",
       " LwQ                    60\n",
       " Rec                    80\n",
       " Unf                  1802,\n",
       "          SalePrice\n",
       " Heating           \n",
       " GasA          2015\n",
       " GasW            20\n",
       " Grav             5\n",
       " OthW             2\n",
       " Wall             6,\n",
       "             SalePrice\n",
       " Heating QC           \n",
       " Ex               1064\n",
       " Fa                 67\n",
       " Gd                319\n",
       " Po                  3\n",
       " TA                595,\n",
       "              SalePrice\n",
       " Central Air           \n",
       " N                  141\n",
       " Y                 1907,\n",
       "             SalePrice\n",
       " Electrical           \n",
       " FuseA             139\n",
       " FuseF              35\n",
       " FuseP               7\n",
       " Mix                 1\n",
       " SBrkr            1866,\n",
       "               SalePrice\n",
       " Kitchen Qual           \n",
       " Ex                  150\n",
       " Fa                   47\n",
       " Gd                  805\n",
       " TA                 1046,\n",
       "             SalePrice\n",
       " Functional           \n",
       " Maj1               12\n",
       " Maj2                7\n",
       " Min1               42\n",
       " Min2               42\n",
       " Mod                29\n",
       " Sal                 2\n",
       " Sev                 2\n",
       " Typ              1912,\n",
       "              SalePrice\n",
       " Garage Type           \n",
       " 2Types              19\n",
       " Attchd            1325\n",
       " Basment             27\n",
       " BuiltIn            132\n",
       " CarPort             11\n",
       " Detchd             534,\n",
       "                SalePrice\n",
       " Garage Finish           \n",
       " Fin                  509\n",
       " RFn                  579\n",
       " Unf                  960,\n",
       "              SalePrice\n",
       " Garage Qual           \n",
       " Ex                   3\n",
       " Fa                  82\n",
       " Gd                  18\n",
       " Po                   2\n",
       " TA                1943,\n",
       "              SalePrice\n",
       " Garage Cond           \n",
       " Ex                   2\n",
       " Fa                  47\n",
       " Gd                  12\n",
       " Po                   8\n",
       " TA                1979,\n",
       "              SalePrice\n",
       " Paved Drive           \n",
       " N                  151\n",
       " P                   39\n",
       " Y                 1858,\n",
       "            SalePrice\n",
       " Sale Type           \n",
       " COD               63\n",
       " CWD               10\n",
       " Con                4\n",
       " ConLD             16\n",
       " ConLI              7\n",
       " ConLw              5\n",
       " New              160\n",
       " Oth                4\n",
       " WD              1779]"
      ]
     },
     "execution_count": 31,
     "metadata": {},
     "output_type": "execute_result"
    }
   ],
   "source": [
    "# Prior to dummify the categorical parameters, more important columns are selected.\n",
    "#The criteria for selecting object-type columns is how distributed these columns are.  \n",
    "[df_train.groupby(column)[['SalePrice']].count() for column in types_object]"
   ]
  },
  {
   "cell_type": "code",
   "execution_count": 32,
   "metadata": {},
   "outputs": [],
   "source": [
    "# Dummification of selected categorical columns.\n",
    "df_train_with_dummies=pd.get_dummies(data=df_train,columns=['MS Zoning','Lot Shape','Land Contour',\n",
    "                          'Lot Config','Neighborhood','Condition 1','Bldg Type','House Style',\n",
    "                          'Roof Style','Exterior 1st','Exterior 2nd',\n",
    "                          'Mas Vnr Type','Exter Qual','Exter Cond','Foundation','Bsmt Qual','Bsmt Exposure'\n",
    "                          ,'BsmtFin Type 1', 'BsmtFin Type 2','Heating',\n",
    "                          'Heating QC','Electrical','Kitchen Qual','Functional','Garage Type','Garage Finish',\n",
    "                         'Garage Qual','Paved Drive','Sale Type'])"
   ]
  },
  {
   "cell_type": "code",
   "execution_count": 33,
   "metadata": {},
   "outputs": [
    {
     "data": {
      "text/html": [
       "<div>\n",
       "<style scoped>\n",
       "    .dataframe tbody tr th:only-of-type {\n",
       "        vertical-align: middle;\n",
       "    }\n",
       "\n",
       "    .dataframe tbody tr th {\n",
       "        vertical-align: top;\n",
       "    }\n",
       "\n",
       "    .dataframe thead th {\n",
       "        text-align: right;\n",
       "    }\n",
       "</style>\n",
       "<table border=\"1\" class=\"dataframe\">\n",
       "  <thead>\n",
       "    <tr style=\"text-align: right;\">\n",
       "      <th></th>\n",
       "      <th>Id</th>\n",
       "      <th>PID</th>\n",
       "      <th>MS SubClass</th>\n",
       "      <th>Lot Frontage</th>\n",
       "      <th>Lot Area</th>\n",
       "      <th>Street</th>\n",
       "      <th>Utilities</th>\n",
       "      <th>Land Slope</th>\n",
       "      <th>Condition 2</th>\n",
       "      <th>Overall Qual</th>\n",
       "      <th>...</th>\n",
       "      <th>Paved Drive_Y</th>\n",
       "      <th>Sale Type_COD</th>\n",
       "      <th>Sale Type_CWD</th>\n",
       "      <th>Sale Type_Con</th>\n",
       "      <th>Sale Type_ConLD</th>\n",
       "      <th>Sale Type_ConLI</th>\n",
       "      <th>Sale Type_ConLw</th>\n",
       "      <th>Sale Type_New</th>\n",
       "      <th>Sale Type_Oth</th>\n",
       "      <th>Sale Type_WD</th>\n",
       "    </tr>\n",
       "  </thead>\n",
       "  <tbody>\n",
       "    <tr>\n",
       "      <th>0</th>\n",
       "      <td>109</td>\n",
       "      <td>533352170</td>\n",
       "      <td>60</td>\n",
       "      <td>69.0552</td>\n",
       "      <td>13517</td>\n",
       "      <td>Pave</td>\n",
       "      <td>AllPub</td>\n",
       "      <td>Gtl</td>\n",
       "      <td>Norm</td>\n",
       "      <td>6</td>\n",
       "      <td>...</td>\n",
       "      <td>1</td>\n",
       "      <td>0</td>\n",
       "      <td>0</td>\n",
       "      <td>0</td>\n",
       "      <td>0</td>\n",
       "      <td>0</td>\n",
       "      <td>0</td>\n",
       "      <td>0</td>\n",
       "      <td>0</td>\n",
       "      <td>1</td>\n",
       "    </tr>\n",
       "    <tr>\n",
       "      <th>1</th>\n",
       "      <td>544</td>\n",
       "      <td>531379050</td>\n",
       "      <td>60</td>\n",
       "      <td>43.0000</td>\n",
       "      <td>11492</td>\n",
       "      <td>Pave</td>\n",
       "      <td>AllPub</td>\n",
       "      <td>Gtl</td>\n",
       "      <td>Norm</td>\n",
       "      <td>7</td>\n",
       "      <td>...</td>\n",
       "      <td>1</td>\n",
       "      <td>0</td>\n",
       "      <td>0</td>\n",
       "      <td>0</td>\n",
       "      <td>0</td>\n",
       "      <td>0</td>\n",
       "      <td>0</td>\n",
       "      <td>0</td>\n",
       "      <td>0</td>\n",
       "      <td>1</td>\n",
       "    </tr>\n",
       "    <tr>\n",
       "      <th>2</th>\n",
       "      <td>153</td>\n",
       "      <td>535304180</td>\n",
       "      <td>20</td>\n",
       "      <td>68.0000</td>\n",
       "      <td>7922</td>\n",
       "      <td>Pave</td>\n",
       "      <td>AllPub</td>\n",
       "      <td>Gtl</td>\n",
       "      <td>Norm</td>\n",
       "      <td>5</td>\n",
       "      <td>...</td>\n",
       "      <td>1</td>\n",
       "      <td>0</td>\n",
       "      <td>0</td>\n",
       "      <td>0</td>\n",
       "      <td>0</td>\n",
       "      <td>0</td>\n",
       "      <td>0</td>\n",
       "      <td>0</td>\n",
       "      <td>0</td>\n",
       "      <td>1</td>\n",
       "    </tr>\n",
       "    <tr>\n",
       "      <th>3</th>\n",
       "      <td>318</td>\n",
       "      <td>916386060</td>\n",
       "      <td>60</td>\n",
       "      <td>73.0000</td>\n",
       "      <td>9802</td>\n",
       "      <td>Pave</td>\n",
       "      <td>AllPub</td>\n",
       "      <td>Gtl</td>\n",
       "      <td>Norm</td>\n",
       "      <td>5</td>\n",
       "      <td>...</td>\n",
       "      <td>1</td>\n",
       "      <td>0</td>\n",
       "      <td>0</td>\n",
       "      <td>0</td>\n",
       "      <td>0</td>\n",
       "      <td>0</td>\n",
       "      <td>0</td>\n",
       "      <td>0</td>\n",
       "      <td>0</td>\n",
       "      <td>1</td>\n",
       "    </tr>\n",
       "    <tr>\n",
       "      <th>4</th>\n",
       "      <td>255</td>\n",
       "      <td>906425045</td>\n",
       "      <td>50</td>\n",
       "      <td>82.0000</td>\n",
       "      <td>14235</td>\n",
       "      <td>Pave</td>\n",
       "      <td>AllPub</td>\n",
       "      <td>Gtl</td>\n",
       "      <td>Norm</td>\n",
       "      <td>6</td>\n",
       "      <td>...</td>\n",
       "      <td>0</td>\n",
       "      <td>0</td>\n",
       "      <td>0</td>\n",
       "      <td>0</td>\n",
       "      <td>0</td>\n",
       "      <td>0</td>\n",
       "      <td>0</td>\n",
       "      <td>0</td>\n",
       "      <td>0</td>\n",
       "      <td>1</td>\n",
       "    </tr>\n",
       "  </tbody>\n",
       "</table>\n",
       "<p>5 rows × 246 columns</p>\n",
       "</div>"
      ],
      "text/plain": [
       "    Id        PID  MS SubClass  Lot Frontage  Lot Area Street Utilities  \\\n",
       "0  109  533352170           60       69.0552     13517   Pave    AllPub   \n",
       "1  544  531379050           60       43.0000     11492   Pave    AllPub   \n",
       "2  153  535304180           20       68.0000      7922   Pave    AllPub   \n",
       "3  318  916386060           60       73.0000      9802   Pave    AllPub   \n",
       "4  255  906425045           50       82.0000     14235   Pave    AllPub   \n",
       "\n",
       "  Land Slope Condition 2  Overall Qual  ...  Paved Drive_Y  Sale Type_COD  \\\n",
       "0        Gtl        Norm             6  ...              1              0   \n",
       "1        Gtl        Norm             7  ...              1              0   \n",
       "2        Gtl        Norm             5  ...              1              0   \n",
       "3        Gtl        Norm             5  ...              1              0   \n",
       "4        Gtl        Norm             6  ...              0              0   \n",
       "\n",
       "   Sale Type_CWD Sale Type_Con  Sale Type_ConLD Sale Type_ConLI  \\\n",
       "0              0             0                0               0   \n",
       "1              0             0                0               0   \n",
       "2              0             0                0               0   \n",
       "3              0             0                0               0   \n",
       "4              0             0                0               0   \n",
       "\n",
       "   Sale Type_ConLw  Sale Type_New  Sale Type_Oth  Sale Type_WD   \n",
       "0                0              0              0              1  \n",
       "1                0              0              0              1  \n",
       "2                0              0              0              1  \n",
       "3                0              0              0              1  \n",
       "4                0              0              0              1  \n",
       "\n",
       "[5 rows x 246 columns]"
      ]
     },
     "execution_count": 33,
     "metadata": {},
     "output_type": "execute_result"
    }
   ],
   "source": [
    "df_train_with_dummies.head()"
   ]
  },
  {
   "cell_type": "markdown",
   "metadata": {},
   "source": [
    " #### We have all columns (object and numeric) with correlations more than |0.3| with SalePrice are selected and stored in 'feature' list."
   ]
  },
  {
   "cell_type": "code",
   "execution_count": 34,
   "metadata": {},
   "outputs": [],
   "source": [
    "corr_Saleprice=df_train_with_dummies.corr()['SalePrice']"
   ]
  },
  {
   "cell_type": "code",
   "execution_count": 35,
   "metadata": {},
   "outputs": [],
   "source": [
    "features=[corr_Saleprice.index[i] for i in range (0, len(corr_Saleprice)) if np.absolute(corr_Saleprice.values[i])>=0.3]"
   ]
  },
  {
   "cell_type": "code",
   "execution_count": 36,
   "metadata": {},
   "outputs": [],
   "source": [
    "features.remove('SalePrice')"
   ]
  },
  {
   "cell_type": "markdown",
   "metadata": {},
   "source": [
    "## Model Preparation"
   ]
  },
  {
   "cell_type": "code",
   "execution_count": 37,
   "metadata": {},
   "outputs": [],
   "source": [
    "X=df_train_with_dummies[features]\n",
    "y=np.log(df_train_with_dummies['SalePrice'])"
   ]
  },
  {
   "cell_type": "code",
   "execution_count": 38,
   "metadata": {},
   "outputs": [],
   "source": [
    "# Tried to apply polynomial features but did not work. Ask Sumit for help. \n",
    "#poly=PolynomialFeatures()\n",
    "#X=poly.fit_transform(X)"
   ]
  },
  {
   "cell_type": "code",
   "execution_count": 39,
   "metadata": {},
   "outputs": [],
   "source": [
    "# Train/test split\n",
    "X_train,X_test,y_train,y_test=train_test_split(X,y,random_state=43,test_size=0.2)"
   ]
  },
  {
   "cell_type": "code",
   "execution_count": 40,
   "metadata": {},
   "outputs": [
    {
     "data": {
      "text/plain": [
       "(1638, 42)"
      ]
     },
     "execution_count": 40,
     "metadata": {},
     "output_type": "execute_result"
    }
   ],
   "source": [
    "X_train.shape"
   ]
  },
  {
   "cell_type": "code",
   "execution_count": 41,
   "metadata": {},
   "outputs": [
    {
     "data": {
      "text/plain": [
       "(410, 42)"
      ]
     },
     "execution_count": 41,
     "metadata": {},
     "output_type": "execute_result"
    }
   ],
   "source": [
    "X_test.shape"
   ]
  },
  {
   "cell_type": "code",
   "execution_count": 42,
   "metadata": {},
   "outputs": [],
   "source": [
    "#Scaling\n",
    "ss=StandardScaler()\n",
    "X_train_sc=ss.fit_transform(X_train)\n",
    "X_test_sc=ss.transform(X_test)"
   ]
  },
  {
   "cell_type": "markdown",
   "metadata": {},
   "source": [
    "### Instantiating Models (Linear Regression, Lasso, and Ridge)"
   ]
  },
  {
   "cell_type": "code",
   "execution_count": 43,
   "metadata": {},
   "outputs": [],
   "source": [
    "lr=LinearRegression()\n",
    "\n",
    "r_alphas=np.logspace(start=1,stop=10,num=50)\n",
    "ridge=RidgeCV(alphas=r_alphas,scoring=\"r2\",cv=5)\n",
    "\n",
    "l_alphas=np.logspace(-10,10,50)\n",
    "lasso=LassoCV(alphas=l_alphas,cv=5)"
   ]
  },
  {
   "cell_type": "markdown",
   "metadata": {},
   "source": [
    "### Cross Validation"
   ]
  },
  {
   "cell_type": "code",
   "execution_count": 44,
   "metadata": {},
   "outputs": [
    {
     "data": {
      "text/plain": [
       "{0.8188535893654716: 6}"
      ]
     },
     "execution_count": 44,
     "metadata": {},
     "output_type": "execute_result"
    }
   ],
   "source": [
    "#Calculating the best cv value for cross valudation in linear regression. \n",
    "{max([cross_val_score(lr,X_train_sc,y_train,cv=i).mean() for i in range(2,100)]):\n",
    " [cross_val_score(lr,X_train_sc,y_train,cv=i).mean() for i in range(2,100)].\n",
    " index(max([cross_val_score(lr,X_train_sc,y_train,cv=i).mean() for i in range(2,100)]))}\n"
   ]
  },
  {
   "cell_type": "code",
   "execution_count": 45,
   "metadata": {},
   "outputs": [
    {
     "data": {
      "image/png": "[encoded data removed]",
      "text/plain": [
       "<Figure size 576x576 with 1 Axes>"
      ]
     },
     "metadata": {
      "needs_background": "light"
     },
     "output_type": "display_data"
    }
   ],
   "source": [
    "fig=plt.figure(figsize=(8,8))\n",
    "plt.plot(range(2,100),[cross_val_score(lr,X_train_sc,y_train,cv=i).mean() for i in range(2,100)], color='brown',lw=2)\n",
    "plt.xlabel(\"CV\" , fontsize = 25)\n",
    "plt.ylabel(\"r$^{2}$\", fontsize = 25)\n",
    "plt.xticks(fontsize=20)\n",
    "plt.ylim(0.78,0.82)\n",
    "plt.xlim(0,100)\n",
    "plt.yticks(fontsize=20)\n",
    "plt.grid(True)\n",
    "plt.savefig(\"images/cv.jpg\", dpi=600);"
   ]
  },
  {
   "cell_type": "code",
   "execution_count": 46,
   "metadata": {},
   "outputs": [
    {
     "data": {
      "text/plain": [
       "0.8188535893654716"
      ]
     },
     "execution_count": 46,
     "metadata": {},
     "output_type": "execute_result"
    }
   ],
   "source": [
    "cross_val_score(lr,X_train_sc,y_train,cv=8).mean()"
   ]
  },
  {
   "cell_type": "code",
   "execution_count": 47,
   "metadata": {},
   "outputs": [
    {
     "data": {
      "text/plain": [
       "0.805144330868993"
      ]
     },
     "execution_count": 47,
     "metadata": {},
     "output_type": "execute_result"
    }
   ],
   "source": [
    "cross_val_score(lasso,X_train_sc,y_train,cv=15).mean()"
   ]
  },
  {
   "cell_type": "code",
   "execution_count": 48,
   "metadata": {},
   "outputs": [
    {
     "data": {
      "text/plain": [
       "0.8060909137794218"
      ]
     },
     "execution_count": 48,
     "metadata": {},
     "output_type": "execute_result"
    }
   ],
   "source": [
    "cross_val_score(ridge,X_train_sc,y_train,cv=15).mean()"
   ]
  },
  {
   "cell_type": "markdown",
   "metadata": {},
   "source": [
    "# Model Fitting and Evaluation"
   ]
  },
  {
   "cell_type": "code",
   "execution_count": 49,
   "metadata": {},
   "outputs": [
    {
     "data": {
      "text/plain": [
       "LinearRegression()"
      ]
     },
     "execution_count": 49,
     "metadata": {},
     "output_type": "execute_result"
    }
   ],
   "source": [
    "# Fitting three model to the training set of the training dataset and evaluating the scores.  \n",
    "lr.fit(X_train_sc,y_train)"
   ]
  },
  {
   "cell_type": "code",
   "execution_count": 50,
   "metadata": {},
   "outputs": [],
   "source": [
    "lasso.fit(X_train_sc,y_train);"
   ]
  },
  {
   "cell_type": "code",
   "execution_count": 51,
   "metadata": {},
   "outputs": [],
   "source": [
    "ridge.fit(X_train_sc,y_train);"
   ]
  },
  {
   "cell_type": "code",
   "execution_count": 52,
   "metadata": {},
   "outputs": [
    {
     "data": {
      "text/plain": [
       "0.8436412497013562"
      ]
     },
     "execution_count": 52,
     "metadata": {},
     "output_type": "execute_result"
    }
   ],
   "source": [
    "lr.score(X_train_sc,y_train)"
   ]
  },
  {
   "cell_type": "code",
   "execution_count": 53,
   "metadata": {},
   "outputs": [
    {
     "data": {
      "text/plain": [
       "0.8842173216068205"
      ]
     },
     "execution_count": 53,
     "metadata": {},
     "output_type": "execute_result"
    }
   ],
   "source": [
    "lr.score(X_test_sc,y_test)"
   ]
  },
  {
   "cell_type": "code",
   "execution_count": 54,
   "metadata": {},
   "outputs": [
    {
     "data": {
      "text/plain": [
       "0.838755228625939"
      ]
     },
     "execution_count": 54,
     "metadata": {},
     "output_type": "execute_result"
    }
   ],
   "source": [
    "lasso.score(X_train_sc,y_train)"
   ]
  },
  {
   "cell_type": "code",
   "execution_count": 55,
   "metadata": {},
   "outputs": [
    {
     "data": {
      "text/plain": [
       "0.8816957329229016"
      ]
     },
     "execution_count": 55,
     "metadata": {},
     "output_type": "execute_result"
    }
   ],
   "source": [
    "lasso.score(X_test_sc,y_test)"
   ]
  },
  {
   "cell_type": "code",
   "execution_count": 56,
   "metadata": {},
   "outputs": [
    {
     "data": {
      "text/plain": [
       "0.8395719574054408"
      ]
     },
     "execution_count": 56,
     "metadata": {},
     "output_type": "execute_result"
    }
   ],
   "source": [
    "ridge.score(X_train_sc,y_train)"
   ]
  },
  {
   "cell_type": "code",
   "execution_count": 57,
   "metadata": {},
   "outputs": [
    {
     "data": {
      "text/plain": [
       "0.8857880229731598"
      ]
     },
     "execution_count": 57,
     "metadata": {},
     "output_type": "execute_result"
    }
   ],
   "source": [
    "ridge.score(X_test_sc,y_test)"
   ]
  },
  {
   "cell_type": "markdown",
   "metadata": {},
   "source": [
    "## Calculating coefficients and intercepts for these three regression models"
   ]
  },
  {
   "cell_type": "code",
   "execution_count": 58,
   "metadata": {},
   "outputs": [
    {
     "data": {
      "text/plain": [
       "array([ 0.00765875,  0.13446614,  0.0285472 ,  0.03758852, -0.0044592 ,\n",
       "        0.02459186,  0.01405822,  0.00898863,  0.08096672,  0.00684087,\n",
       "        0.01080392,  0.03448416, -0.01046795,  0.0451397 ,  0.00445778,\n",
       "        0.00898815, -0.00385886, -0.01487169,  0.01220754,  0.03462799,\n",
       "       -0.03749073,  0.00155143, -0.00835362,  0.02362882,  0.07192005,\n",
       "        0.07823598,  0.04543791,  0.04368672,  0.00769127,  0.00934672,\n",
       "        0.0113105 , -0.01079122,  0.00368699,  0.01282751, -0.01250692,\n",
       "        0.05462139,  0.06704504,  0.05238497, -0.0024563 , -0.00558478,\n",
       "       -0.01465988,  0.00505074])"
      ]
     },
     "execution_count": 58,
     "metadata": {},
     "output_type": "execute_result"
    }
   ],
   "source": [
    "lr.coef_"
   ]
  },
  {
   "cell_type": "code",
   "execution_count": 59,
   "metadata": {},
   "outputs": [
    {
     "data": {
      "text/plain": [
       "12.020575491397244"
      ]
     },
     "execution_count": 59,
     "metadata": {},
     "output_type": "execute_result"
    }
   ],
   "source": [
    "lr.intercept_"
   ]
  },
  {
   "cell_type": "code",
   "execution_count": 60,
   "metadata": {},
   "outputs": [
    {
     "data": {
      "text/plain": [
       "array([ 0.00664947,  0.14047128,  0.0295028 ,  0.0376827 , -0.        ,\n",
       "        0.02613075,  0.01414437,  0.00953136,  0.08035764,  0.00344323,\n",
       "        0.00855561,  0.03365182, -0.        ,  0.04652726,  0.00383933,\n",
       "        0.00765596, -0.        , -0.01306871,  0.00909347, -0.        ,\n",
       "       -0.        ,  0.        , -0.00379047, -0.        ,  0.00706892,\n",
       "        0.01403284,  0.03376581,  0.02607888,  0.00432268,  0.00217448,\n",
       "        0.0083492 , -0.00855797,  0.        ,  0.01412153, -0.00749086,\n",
       "        0.02204275,  0.01465505,  0.        , -0.00128053, -0.00022447,\n",
       "       -0.01287277,  0.00058821])"
      ]
     },
     "execution_count": 60,
     "metadata": {},
     "output_type": "execute_result"
    }
   ],
   "source": [
    "lasso.coef_"
   ]
  },
  {
   "cell_type": "code",
   "execution_count": 61,
   "metadata": {},
   "outputs": [
    {
     "data": {
      "text/plain": [
       "12.020575491397244"
      ]
     },
     "execution_count": 61,
     "metadata": {},
     "output_type": "execute_result"
    }
   ],
   "source": [
    "lasso.intercept_"
   ]
  },
  {
   "cell_type": "code",
   "execution_count": 62,
   "metadata": {},
   "outputs": [
    {
     "data": {
      "text/plain": [
       "array([ 5.92884209e-03,  1.17516225e-01,  3.15303741e-02,  3.82876233e-02,\n",
       "       -9.76537026e-04,  2.33688450e-02,  1.88710547e-02,  1.02558620e-02,\n",
       "        6.48583543e-02,  1.09466390e-02,  1.93788630e-02,  3.71931459e-02,\n",
       "       -7.46972110e-03,  3.75072816e-02,  1.62197556e-02,  1.02343499e-02,\n",
       "       -9.51518009e-04, -1.48232982e-02,  1.10346784e-02,  6.05545692e-03,\n",
       "       -8.88473136e-03,  8.56460205e-05, -7.44636849e-03,  4.19957553e-03,\n",
       "        2.23999089e-02,  2.45043971e-02,  3.15718177e-02,  2.83819480e-02,\n",
       "        9.32955087e-03,  4.61850215e-03,  1.15602220e-02, -9.91227196e-03,\n",
       "        2.82386299e-03,  1.55052468e-02, -9.82377399e-03,  3.18004178e-02,\n",
       "        2.90171111e-02,  1.30996256e-02, -3.97531329e-03, -2.85214959e-03,\n",
       "       -1.57103934e-02,  3.87934173e-03])"
      ]
     },
     "execution_count": 62,
     "metadata": {},
     "output_type": "execute_result"
    }
   ],
   "source": [
    "ridge.coef_"
   ]
  },
  {
   "cell_type": "code",
   "execution_count": 63,
   "metadata": {},
   "outputs": [
    {
     "data": {
      "text/plain": [
       "12.020575491397244"
      ]
     },
     "execution_count": 63,
     "metadata": {},
     "output_type": "execute_result"
    }
   ],
   "source": [
    "ridge.intercept_"
   ]
  },
  {
   "cell_type": "code",
   "execution_count": 64,
   "metadata": {
    "scrolled": false
   },
   "outputs": [
    {
     "data": {
      "image/png": "[encoded data removed]",
      "text/plain": [
       "<Figure size 1080x3600 with 3 Axes>"
      ]
     },
     "metadata": {
      "needs_background": "light"
     },
     "output_type": "display_data"
    }
   ],
   "source": [
    "# coefficients for all features are plotted for three models.  \n",
    "fig=plt.figure(figsize=(15,50))\n",
    "ax1=plt.subplot(311)\n",
    "ax1.set_title(\"Linear Regression Coefficient\", color='green',fontsize=20)\n",
    "ax1.bar(features,pd.Series(lr.coef_), color='green', alpha=0.7)\n",
    "ax1.set_ylabel(\"Coefficient\",fontsize=20)\n",
    "ax1.set_xlabel(\"Features\",fontsize=20)\n",
    "plt.xticks(rotation=45, fontsize=10);\n",
    "\n",
    "ax1=plt.subplot(312)\n",
    "ax1.set_title(\"Ridge Regression Coefficient\", color='blue',fontsize=20)\n",
    "ax1.bar(features,pd.Series(ridge.coef_), color='blue',alpha=0.7)\n",
    "ax1.set_ylabel(\"Coefficient\",fontsize=20)\n",
    "ax1.set_xlabel(\"Features\",fontsize=20)\n",
    "plt.xticks(rotation=45, fontsize=10);\n",
    "\n",
    "ax1=plt.subplot(313)\n",
    "ax1.set_title(\"Lasso Regression Coefficient\", color='red',fontsize=20)\n",
    "ax1.bar(features,pd.Series(lasso.coef_), color='red',alpha=0.7)\n",
    "ax1.set_ylabel(\"Coefficient\",fontsize=20)\n",
    "ax1.set_xlabel(\"Features\",fontsize=20)\n",
    "plt.xticks(rotation=45, fontsize=10)\n",
    "plt.savefig(\"images/Bar.jpg\", dpi=600);\n",
    "\n"
   ]
  },
  {
   "cell_type": "markdown",
   "metadata": {},
   "source": [
    "# Predicting test set of the training dataset"
   ]
  },
  {
   "cell_type": "code",
   "execution_count": 65,
   "metadata": {},
   "outputs": [],
   "source": [
    "y_pred_lr=lr.predict(X_test_sc)"
   ]
  },
  {
   "cell_type": "code",
   "execution_count": 66,
   "metadata": {},
   "outputs": [],
   "source": [
    "y_pred_lasso=lasso.predict(X_test_sc)"
   ]
  },
  {
   "cell_type": "code",
   "execution_count": 67,
   "metadata": {},
   "outputs": [],
   "source": [
    "y_pred_ridge=ridge.predict(X_test_sc)"
   ]
  },
  {
   "cell_type": "code",
   "execution_count": 68,
   "metadata": {
    "scrolled": false
   },
   "outputs": [
    {
     "data": {
      "image/png": "[encoded data removed]",
      "text/plain": [
       "<Figure size 864x648 with 1 Axes>"
      ]
     },
     "metadata": {
      "needs_background": "light"
     },
     "output_type": "display_data"
    }
   ],
   "source": [
    "# scater plots for predicted versus actual y values are plotted for three models.\n",
    "fig=plt.figure(figsize=(12,9))\n",
    "\n",
    "lr_plt=plt.scatter(y_pred_lr, y_test, s=50, color='red', alpha = 0.5)\n",
    "lasso_plt=plt.scatter(y_pred_lasso, y_test, s=50, color='blue', alpha = 0.5)\n",
    "ridge_plt=plt.scatter(y_pred_ridge, y_test, s=50, color='green', alpha = 0.5)\n",
    "plt.legend((lr_plt,lasso_plt,ridge_plt),('Linear Regression','Lasso',' Ridge'),ncol=1,fontsize=20,loc='best',markerscale=3)\n",
    "\n",
    "# Tweak title and axis labels.\n",
    "plt.xlabel(\"Predicted Values: $\\hat{y}$\", fontsize = 25)\n",
    "plt.ylabel(\"Actual Values: $y$\", fontsize = 25)\n",
    "plt.title('Predicted Values vs. Actual Values', fontsize = 20)\n",
    "plt.xticks(fontsize=20)\n",
    "plt.yticks(fontsize=20)\n",
    "plt.tight_layout()\n",
    "plt.savefig(\"images/Predicted_Actual.jpg\", dpi=600);"
   ]
  },
  {
   "cell_type": "code",
   "execution_count": 69,
   "metadata": {},
   "outputs": [],
   "source": [
    "# Here significant parameters are evaluated using statmodels\n",
    "#X_train_sc_sm=sm.add_constant(X_train_sc)\n",
    "#sm_model=sm.OLS(y_train,X_train_sc_sm).fit();\n",
    "#sm_model.summary()"
   ]
  },
  {
   "cell_type": "code",
   "execution_count": 70,
   "metadata": {
    "scrolled": false
   },
   "outputs": [
    {
     "data": {
      "text/html": [
       "<table class=\"simpletable\">\n",
       "<caption>OLS Regression Results</caption>\n",
       "<tr>\n",
       "  <th>Dep. Variable:</th>        <td>SalePrice</td>    <th>  R-squared:         </th> <td>   0.844</td>\n",
       "</tr>\n",
       "<tr>\n",
       "  <th>Model:</th>                   <td>OLS</td>       <th>  Adj. R-squared:    </th> <td>   0.840</td>\n",
       "</tr>\n",
       "<tr>\n",
       "  <th>Method:</th>             <td>Least Squares</td>  <th>  F-statistic:       </th> <td>   204.9</td>\n",
       "</tr>\n",
       "<tr>\n",
       "  <th>Date:</th>             <td>Wed, 16 Jun 2021</td> <th>  Prob (F-statistic):</th>  <td>  0.00</td> \n",
       "</tr>\n",
       "<tr>\n",
       "  <th>Time:</th>                 <td>14:58:47</td>     <th>  Log-Likelihood:    </th> <td>  660.37</td>\n",
       "</tr>\n",
       "<tr>\n",
       "  <th>No. Observations:</th>      <td>  1638</td>      <th>  AIC:               </th> <td>  -1235.</td>\n",
       "</tr>\n",
       "<tr>\n",
       "  <th>Df Residuals:</th>          <td>  1595</td>      <th>  BIC:               </th> <td>  -1002.</td>\n",
       "</tr>\n",
       "<tr>\n",
       "  <th>Df Model:</th>              <td>    42</td>      <th>                     </th>     <td> </td>   \n",
       "</tr>\n",
       "<tr>\n",
       "  <th>Covariance Type:</th>      <td>nonrobust</td>    <th>                     </th>     <td> </td>   \n",
       "</tr>\n",
       "</table>\n",
       "<table class=\"simpletable\">\n",
       "<tr>\n",
       "            <td></td>              <th>coef</th>     <th>std err</th>      <th>t</th>      <th>P>|t|</th>  <th>[0.025</th>    <th>0.975]</th>  \n",
       "</tr>\n",
       "<tr>\n",
       "  <th>const</th>                <td>    5.9564</td> <td>    0.799</td> <td>    7.458</td> <td> 0.000</td> <td>    4.390</td> <td>    7.523</td>\n",
       "</tr>\n",
       "<tr>\n",
       "  <th>Lot Frontage</th>         <td>    0.0004</td> <td>    0.000</td> <td>    1.564</td> <td> 0.118</td> <td>-9.11e-05</td> <td>    0.001</td>\n",
       "</tr>\n",
       "<tr>\n",
       "  <th>Overall Qual</th>         <td>    0.0944</td> <td>    0.005</td> <td>   17.433</td> <td> 0.000</td> <td>    0.084</td> <td>    0.105</td>\n",
       "</tr>\n",
       "<tr>\n",
       "  <th>Year Built</th>           <td>    0.0009</td> <td>    0.000</td> <td>    3.075</td> <td> 0.002</td> <td>    0.000</td> <td>    0.002</td>\n",
       "</tr>\n",
       "<tr>\n",
       "  <th>Year Remod/Add</th>       <td>    0.0018</td> <td>    0.000</td> <td>    5.860</td> <td> 0.000</td> <td>    0.001</td> <td>    0.002</td>\n",
       "</tr>\n",
       "<tr>\n",
       "  <th>Mas Vnr Area</th>         <td>-2.612e-05</td> <td> 3.75e-05</td> <td>   -0.697</td> <td> 0.486</td> <td>-9.96e-05</td> <td> 4.74e-05</td>\n",
       "</tr>\n",
       "<tr>\n",
       "  <th>BsmtFin SF 1</th>         <td> 5.264e-05</td> <td> 1.32e-05</td> <td>    3.984</td> <td> 0.000</td> <td> 2.67e-05</td> <td> 7.86e-05</td>\n",
       "</tr>\n",
       "<tr>\n",
       "  <th>Total Bsmt SF</th>        <td> 3.089e-05</td> <td> 1.95e-05</td> <td>    1.583</td> <td> 0.114</td> <td>-7.37e-06</td> <td> 6.91e-05</td>\n",
       "</tr>\n",
       "<tr>\n",
       "  <th>1st Flr SF</th>           <td> 2.266e-05</td> <td> 2.18e-05</td> <td>    1.040</td> <td> 0.299</td> <td>-2.01e-05</td> <td> 6.54e-05</td>\n",
       "</tr>\n",
       "<tr>\n",
       "  <th>Gr Liv Area</th>          <td>    0.0002</td> <td> 2.02e-05</td> <td>    8.186</td> <td> 0.000</td> <td>    0.000</td> <td>    0.000</td>\n",
       "</tr>\n",
       "<tr>\n",
       "  <th>Full Bath</th>            <td>    0.0124</td> <td>    0.011</td> <td>    1.124</td> <td> 0.261</td> <td>   -0.009</td> <td>    0.034</td>\n",
       "</tr>\n",
       "<tr>\n",
       "  <th>TotRms AbvGrd</th>        <td>    0.0070</td> <td>    0.005</td> <td>    1.412</td> <td> 0.158</td> <td>   -0.003</td> <td>    0.017</td>\n",
       "</tr>\n",
       "<tr>\n",
       "  <th>Fireplaces</th>           <td>    0.0539</td> <td>    0.008</td> <td>    6.806</td> <td> 0.000</td> <td>    0.038</td> <td>    0.069</td>\n",
       "</tr>\n",
       "<tr>\n",
       "  <th>Garage Yr Blt</th>        <td>   -0.0004</td> <td>    0.000</td> <td>   -1.433</td> <td> 0.152</td> <td>   -0.001</td> <td>    0.000</td>\n",
       "</tr>\n",
       "<tr>\n",
       "  <th>Garage Cars</th>          <td>    0.0596</td> <td>    0.013</td> <td>    4.424</td> <td> 0.000</td> <td>    0.033</td> <td>    0.086</td>\n",
       "</tr>\n",
       "<tr>\n",
       "  <th>Garage Area</th>          <td> 2.076e-05</td> <td> 4.77e-05</td> <td>    0.436</td> <td> 0.663</td> <td>-7.27e-05</td> <td>    0.000</td>\n",
       "</tr>\n",
       "<tr>\n",
       "  <th>Wood Deck SF</th>         <td> 7.352e-05</td> <td> 3.65e-05</td> <td>    2.012</td> <td> 0.044</td> <td> 1.85e-06</td> <td>    0.000</td>\n",
       "</tr>\n",
       "<tr>\n",
       "  <th>Open Porch SF</th>        <td>-5.791e-05</td> <td> 6.71e-05</td> <td>   -0.863</td> <td> 0.388</td> <td>   -0.000</td> <td> 7.37e-05</td>\n",
       "</tr>\n",
       "<tr>\n",
       "  <th>Lot Shape_Reg</th>        <td>   -0.0308</td> <td>    0.009</td> <td>   -3.352</td> <td> 0.001</td> <td>   -0.049</td> <td>   -0.013</td>\n",
       "</tr>\n",
       "<tr>\n",
       "  <th>Neighborhood_NridgHt</th> <td>    0.0520</td> <td>    0.022</td> <td>    2.407</td> <td> 0.016</td> <td>    0.010</td> <td>    0.094</td>\n",
       "</tr>\n",
       "<tr>\n",
       "  <th>Exterior 1st_VinylSd</th> <td>    0.0724</td> <td>    0.045</td> <td>    1.593</td> <td> 0.111</td> <td>   -0.017</td> <td>    0.161</td>\n",
       "</tr>\n",
       "<tr>\n",
       "  <th>Exterior 2nd_VinylSd</th> <td>   -0.0784</td> <td>    0.045</td> <td>   -1.740</td> <td> 0.082</td> <td>   -0.167</td> <td>    0.010</td>\n",
       "</tr>\n",
       "<tr>\n",
       "  <th>Mas Vnr Type_None</th>    <td>    0.0032</td> <td>    0.013</td> <td>    0.244</td> <td> 0.808</td> <td>   -0.022</td> <td>    0.029</td>\n",
       "</tr>\n",
       "<tr>\n",
       "  <th>Mas Vnr Type_Stone</th>   <td>   -0.0303</td> <td>    0.017</td> <td>   -1.736</td> <td> 0.083</td> <td>   -0.064</td> <td>    0.004</td>\n",
       "</tr>\n",
       "<tr>\n",
       "  <th>Exter Qual_Ex</th>        <td>    0.1202</td> <td>    0.051</td> <td>    2.364</td> <td> 0.018</td> <td>    0.020</td> <td>    0.220</td>\n",
       "</tr>\n",
       "<tr>\n",
       "  <th>Exter Qual_Gd</th>        <td>    0.1517</td> <td>    0.042</td> <td>    3.650</td> <td> 0.000</td> <td>    0.070</td> <td>    0.233</td>\n",
       "</tr>\n",
       "<tr>\n",
       "  <th>Exter Qual_TA</th>        <td>    0.1601</td> <td>    0.038</td> <td>    4.160</td> <td> 0.000</td> <td>    0.085</td> <td>    0.236</td>\n",
       "</tr>\n",
       "<tr>\n",
       "  <th>Foundation_CBlock</th>    <td>    0.0920</td> <td>    0.016</td> <td>    5.682</td> <td> 0.000</td> <td>    0.060</td> <td>    0.124</td>\n",
       "</tr>\n",
       "<tr>\n",
       "  <th>Foundation_PConc</th>     <td>    0.0878</td> <td>    0.019</td> <td>    4.518</td> <td> 0.000</td> <td>    0.050</td> <td>    0.126</td>\n",
       "</tr>\n",
       "<tr>\n",
       "  <th>Bsmt Qual_Ex</th>         <td>    0.0268</td> <td>    0.021</td> <td>    1.305</td> <td> 0.192</td> <td>   -0.014</td> <td>    0.067</td>\n",
       "</tr>\n",
       "<tr>\n",
       "  <th>Bsmt Qual_TA</th>         <td>    0.0188</td> <td>    0.013</td> <td>    1.477</td> <td> 0.140</td> <td>   -0.006</td> <td>    0.044</td>\n",
       "</tr>\n",
       "<tr>\n",
       "  <th>Bsmt Exposure_Gd</th>     <td>    0.0380</td> <td>    0.017</td> <td>    2.250</td> <td> 0.025</td> <td>    0.005</td> <td>    0.071</td>\n",
       "</tr>\n",
       "<tr>\n",
       "  <th>Bsmt Exposure_No</th>     <td>   -0.0231</td> <td>    0.011</td> <td>   -2.185</td> <td> 0.029</td> <td>   -0.044</td> <td>   -0.002</td>\n",
       "</tr>\n",
       "<tr>\n",
       "  <th>BsmtFin Type 1_GLQ</th>   <td>    0.0078</td> <td>    0.012</td> <td>    0.655</td> <td> 0.513</td> <td>   -0.016</td> <td>    0.031</td>\n",
       "</tr>\n",
       "<tr>\n",
       "  <th>Heating QC_Ex</th>        <td>    0.0257</td> <td>    0.012</td> <td>    2.060</td> <td> 0.040</td> <td>    0.001</td> <td>    0.050</td>\n",
       "</tr>\n",
       "<tr>\n",
       "  <th>Heating QC_TA</th>        <td>   -0.0276</td> <td>    0.012</td> <td>   -2.246</td> <td> 0.025</td> <td>   -0.052</td> <td>   -0.003</td>\n",
       "</tr>\n",
       "<tr>\n",
       "  <th>Kitchen Qual_Ex</th>      <td>    0.2057</td> <td>    0.039</td> <td>    5.318</td> <td> 0.000</td> <td>    0.130</td> <td>    0.282</td>\n",
       "</tr>\n",
       "<tr>\n",
       "  <th>Kitchen Qual_Gd</th>      <td>    0.1374</td> <td>    0.033</td> <td>    4.143</td> <td> 0.000</td> <td>    0.072</td> <td>    0.202</td>\n",
       "</tr>\n",
       "<tr>\n",
       "  <th>Kitchen Qual_TA</th>      <td>    0.1048</td> <td>    0.031</td> <td>    3.406</td> <td> 0.001</td> <td>    0.044</td> <td>    0.165</td>\n",
       "</tr>\n",
       "<tr>\n",
       "  <th>Garage Type_Detchd</th>   <td>   -0.0055</td> <td>    0.013</td> <td>   -0.437</td> <td> 0.662</td> <td>   -0.030</td> <td>    0.019</td>\n",
       "</tr>\n",
       "<tr>\n",
       "  <th>Garage Finish_Fin</th>    <td>   -0.0129</td> <td>    0.012</td> <td>   -1.080</td> <td> 0.280</td> <td>   -0.036</td> <td>    0.011</td>\n",
       "</tr>\n",
       "<tr>\n",
       "  <th>Garage Finish_Unf</th>    <td>   -0.0294</td> <td>    0.013</td> <td>   -2.271</td> <td> 0.023</td> <td>   -0.055</td> <td>   -0.004</td>\n",
       "</tr>\n",
       "<tr>\n",
       "  <th>Sale Type_New</th>        <td>    0.0187</td> <td>    0.018</td> <td>    1.052</td> <td> 0.293</td> <td>   -0.016</td> <td>    0.054</td>\n",
       "</tr>\n",
       "</table>\n",
       "<table class=\"simpletable\">\n",
       "<tr>\n",
       "  <th>Omnibus:</th>       <td>1424.163</td> <th>  Durbin-Watson:     </th>  <td>   2.082</td> \n",
       "</tr>\n",
       "<tr>\n",
       "  <th>Prob(Omnibus):</th>  <td> 0.000</td>  <th>  Jarque-Bera (JB):  </th> <td>101364.790</td>\n",
       "</tr>\n",
       "<tr>\n",
       "  <th>Skew:</th>           <td>-3.668</td>  <th>  Prob(JB):          </th>  <td>    0.00</td> \n",
       "</tr>\n",
       "<tr>\n",
       "  <th>Kurtosis:</th>       <td>40.834</td>  <th>  Cond. No.          </th>  <td>8.15e+05</td> \n",
       "</tr>\n",
       "</table><br/><br/>Notes:<br/>[1] Standard Errors assume that the covariance matrix of the errors is correctly specified.<br/>[2] The condition number is large, 8.15e+05. This might indicate that there are<br/>strong multicollinearity or other numerical problems."
      ],
      "text/plain": [
       "<class 'statsmodels.iolib.summary.Summary'>\n",
       "\"\"\"\n",
       "                            OLS Regression Results                            \n",
       "==============================================================================\n",
       "Dep. Variable:              SalePrice   R-squared:                       0.844\n",
       "Model:                            OLS   Adj. R-squared:                  0.840\n",
       "Method:                 Least Squares   F-statistic:                     204.9\n",
       "Date:                Wed, 16 Jun 2021   Prob (F-statistic):               0.00\n",
       "Time:                        14:58:47   Log-Likelihood:                 660.37\n",
       "No. Observations:                1638   AIC:                            -1235.\n",
       "Df Residuals:                    1595   BIC:                            -1002.\n",
       "Df Model:                          42                                         \n",
       "Covariance Type:            nonrobust                                         \n",
       "========================================================================================\n",
       "                           coef    std err          t      P>|t|      [0.025      0.975]\n",
       "----------------------------------------------------------------------------------------\n",
       "const                    5.9564      0.799      7.458      0.000       4.390       7.523\n",
       "Lot Frontage             0.0004      0.000      1.564      0.118   -9.11e-05       0.001\n",
       "Overall Qual             0.0944      0.005     17.433      0.000       0.084       0.105\n",
       "Year Built               0.0009      0.000      3.075      0.002       0.000       0.002\n",
       "Year Remod/Add           0.0018      0.000      5.860      0.000       0.001       0.002\n",
       "Mas Vnr Area         -2.612e-05   3.75e-05     -0.697      0.486   -9.96e-05    4.74e-05\n",
       "BsmtFin SF 1          5.264e-05   1.32e-05      3.984      0.000    2.67e-05    7.86e-05\n",
       "Total Bsmt SF         3.089e-05   1.95e-05      1.583      0.114   -7.37e-06    6.91e-05\n",
       "1st Flr SF            2.266e-05   2.18e-05      1.040      0.299   -2.01e-05    6.54e-05\n",
       "Gr Liv Area              0.0002   2.02e-05      8.186      0.000       0.000       0.000\n",
       "Full Bath                0.0124      0.011      1.124      0.261      -0.009       0.034\n",
       "TotRms AbvGrd            0.0070      0.005      1.412      0.158      -0.003       0.017\n",
       "Fireplaces               0.0539      0.008      6.806      0.000       0.038       0.069\n",
       "Garage Yr Blt           -0.0004      0.000     -1.433      0.152      -0.001       0.000\n",
       "Garage Cars              0.0596      0.013      4.424      0.000       0.033       0.086\n",
       "Garage Area           2.076e-05   4.77e-05      0.436      0.663   -7.27e-05       0.000\n",
       "Wood Deck SF          7.352e-05   3.65e-05      2.012      0.044    1.85e-06       0.000\n",
       "Open Porch SF        -5.791e-05   6.71e-05     -0.863      0.388      -0.000    7.37e-05\n",
       "Lot Shape_Reg           -0.0308      0.009     -3.352      0.001      -0.049      -0.013\n",
       "Neighborhood_NridgHt     0.0520      0.022      2.407      0.016       0.010       0.094\n",
       "Exterior 1st_VinylSd     0.0724      0.045      1.593      0.111      -0.017       0.161\n",
       "Exterior 2nd_VinylSd    -0.0784      0.045     -1.740      0.082      -0.167       0.010\n",
       "Mas Vnr Type_None        0.0032      0.013      0.244      0.808      -0.022       0.029\n",
       "Mas Vnr Type_Stone      -0.0303      0.017     -1.736      0.083      -0.064       0.004\n",
       "Exter Qual_Ex            0.1202      0.051      2.364      0.018       0.020       0.220\n",
       "Exter Qual_Gd            0.1517      0.042      3.650      0.000       0.070       0.233\n",
       "Exter Qual_TA            0.1601      0.038      4.160      0.000       0.085       0.236\n",
       "Foundation_CBlock        0.0920      0.016      5.682      0.000       0.060       0.124\n",
       "Foundation_PConc         0.0878      0.019      4.518      0.000       0.050       0.126\n",
       "Bsmt Qual_Ex             0.0268      0.021      1.305      0.192      -0.014       0.067\n",
       "Bsmt Qual_TA             0.0188      0.013      1.477      0.140      -0.006       0.044\n",
       "Bsmt Exposure_Gd         0.0380      0.017      2.250      0.025       0.005       0.071\n",
       "Bsmt Exposure_No        -0.0231      0.011     -2.185      0.029      -0.044      -0.002\n",
       "BsmtFin Type 1_GLQ       0.0078      0.012      0.655      0.513      -0.016       0.031\n",
       "Heating QC_Ex            0.0257      0.012      2.060      0.040       0.001       0.050\n",
       "Heating QC_TA           -0.0276      0.012     -2.246      0.025      -0.052      -0.003\n",
       "Kitchen Qual_Ex          0.2057      0.039      5.318      0.000       0.130       0.282\n",
       "Kitchen Qual_Gd          0.1374      0.033      4.143      0.000       0.072       0.202\n",
       "Kitchen Qual_TA          0.1048      0.031      3.406      0.001       0.044       0.165\n",
       "Garage Type_Detchd      -0.0055      0.013     -0.437      0.662      -0.030       0.019\n",
       "Garage Finish_Fin       -0.0129      0.012     -1.080      0.280      -0.036       0.011\n",
       "Garage Finish_Unf       -0.0294      0.013     -2.271      0.023      -0.055      -0.004\n",
       "Sale Type_New            0.0187      0.018      1.052      0.293      -0.016       0.054\n",
       "==============================================================================\n",
       "Omnibus:                     1424.163   Durbin-Watson:                   2.082\n",
       "Prob(Omnibus):                  0.000   Jarque-Bera (JB):           101364.790\n",
       "Skew:                          -3.668   Prob(JB):                         0.00\n",
       "Kurtosis:                      40.834   Cond. No.                     8.15e+05\n",
       "==============================================================================\n",
       "\n",
       "Notes:\n",
       "[1] Standard Errors assume that the covariance matrix of the errors is correctly specified.\n",
       "[2] The condition number is large, 8.15e+05. This might indicate that there are\n",
       "strong multicollinearity or other numerical problems.\n",
       "\"\"\""
      ]
     },
     "execution_count": 70,
     "metadata": {},
     "output_type": "execute_result"
    }
   ],
   "source": [
    "X_train_sc_sm=sm.add_constant(X_train)\n",
    "sm_model=sm.OLS(y_train,X_train_sc_sm).fit();\n",
    "sm_model.summary()"
   ]
  },
  {
   "cell_type": "markdown",
   "metadata": {},
   "source": [
    "# Predicting Sale Price for a New Dataset called \"Test\" "
   ]
  },
  {
   "cell_type": "code",
   "execution_count": 71,
   "metadata": {
    "scrolled": true
   },
   "outputs": [
    {
     "data": {
      "text/html": [
       "<div>\n",
       "<style scoped>\n",
       "    .dataframe tbody tr th:only-of-type {\n",
       "        vertical-align: middle;\n",
       "    }\n",
       "\n",
       "    .dataframe tbody tr th {\n",
       "        vertical-align: top;\n",
       "    }\n",
       "\n",
       "    .dataframe thead th {\n",
       "        text-align: right;\n",
       "    }\n",
       "</style>\n",
       "<table border=\"1\" class=\"dataframe\">\n",
       "  <thead>\n",
       "    <tr style=\"text-align: right;\">\n",
       "      <th></th>\n",
       "      <th>Id</th>\n",
       "      <th>PID</th>\n",
       "      <th>MS SubClass</th>\n",
       "      <th>MS Zoning</th>\n",
       "      <th>Lot Frontage</th>\n",
       "      <th>Lot Area</th>\n",
       "      <th>Street</th>\n",
       "      <th>Alley</th>\n",
       "      <th>Lot Shape</th>\n",
       "      <th>Land Contour</th>\n",
       "      <th>...</th>\n",
       "      <th>3Ssn Porch</th>\n",
       "      <th>Screen Porch</th>\n",
       "      <th>Pool Area</th>\n",
       "      <th>Pool QC</th>\n",
       "      <th>Fence</th>\n",
       "      <th>Misc Feature</th>\n",
       "      <th>Misc Val</th>\n",
       "      <th>Mo Sold</th>\n",
       "      <th>Yr Sold</th>\n",
       "      <th>Sale Type</th>\n",
       "    </tr>\n",
       "  </thead>\n",
       "  <tbody>\n",
       "    <tr>\n",
       "      <th>0</th>\n",
       "      <td>2658</td>\n",
       "      <td>902301120</td>\n",
       "      <td>190</td>\n",
       "      <td>RM</td>\n",
       "      <td>69.0</td>\n",
       "      <td>9142</td>\n",
       "      <td>Pave</td>\n",
       "      <td>Grvl</td>\n",
       "      <td>Reg</td>\n",
       "      <td>Lvl</td>\n",
       "      <td>...</td>\n",
       "      <td>0</td>\n",
       "      <td>0</td>\n",
       "      <td>0</td>\n",
       "      <td>NaN</td>\n",
       "      <td>NaN</td>\n",
       "      <td>NaN</td>\n",
       "      <td>0</td>\n",
       "      <td>4</td>\n",
       "      <td>2006</td>\n",
       "      <td>WD</td>\n",
       "    </tr>\n",
       "    <tr>\n",
       "      <th>1</th>\n",
       "      <td>2718</td>\n",
       "      <td>905108090</td>\n",
       "      <td>90</td>\n",
       "      <td>RL</td>\n",
       "      <td>NaN</td>\n",
       "      <td>9662</td>\n",
       "      <td>Pave</td>\n",
       "      <td>NaN</td>\n",
       "      <td>IR1</td>\n",
       "      <td>Lvl</td>\n",
       "      <td>...</td>\n",
       "      <td>0</td>\n",
       "      <td>0</td>\n",
       "      <td>0</td>\n",
       "      <td>NaN</td>\n",
       "      <td>NaN</td>\n",
       "      <td>NaN</td>\n",
       "      <td>0</td>\n",
       "      <td>8</td>\n",
       "      <td>2006</td>\n",
       "      <td>WD</td>\n",
       "    </tr>\n",
       "    <tr>\n",
       "      <th>2</th>\n",
       "      <td>2414</td>\n",
       "      <td>528218130</td>\n",
       "      <td>60</td>\n",
       "      <td>RL</td>\n",
       "      <td>58.0</td>\n",
       "      <td>17104</td>\n",
       "      <td>Pave</td>\n",
       "      <td>NaN</td>\n",
       "      <td>IR1</td>\n",
       "      <td>Lvl</td>\n",
       "      <td>...</td>\n",
       "      <td>0</td>\n",
       "      <td>0</td>\n",
       "      <td>0</td>\n",
       "      <td>NaN</td>\n",
       "      <td>NaN</td>\n",
       "      <td>NaN</td>\n",
       "      <td>0</td>\n",
       "      <td>9</td>\n",
       "      <td>2006</td>\n",
       "      <td>New</td>\n",
       "    </tr>\n",
       "    <tr>\n",
       "      <th>3</th>\n",
       "      <td>1989</td>\n",
       "      <td>902207150</td>\n",
       "      <td>30</td>\n",
       "      <td>RM</td>\n",
       "      <td>60.0</td>\n",
       "      <td>8520</td>\n",
       "      <td>Pave</td>\n",
       "      <td>NaN</td>\n",
       "      <td>Reg</td>\n",
       "      <td>Lvl</td>\n",
       "      <td>...</td>\n",
       "      <td>0</td>\n",
       "      <td>0</td>\n",
       "      <td>0</td>\n",
       "      <td>NaN</td>\n",
       "      <td>NaN</td>\n",
       "      <td>NaN</td>\n",
       "      <td>0</td>\n",
       "      <td>7</td>\n",
       "      <td>2007</td>\n",
       "      <td>WD</td>\n",
       "    </tr>\n",
       "    <tr>\n",
       "      <th>4</th>\n",
       "      <td>625</td>\n",
       "      <td>535105100</td>\n",
       "      <td>20</td>\n",
       "      <td>RL</td>\n",
       "      <td>NaN</td>\n",
       "      <td>9500</td>\n",
       "      <td>Pave</td>\n",
       "      <td>NaN</td>\n",
       "      <td>IR1</td>\n",
       "      <td>Lvl</td>\n",
       "      <td>...</td>\n",
       "      <td>0</td>\n",
       "      <td>185</td>\n",
       "      <td>0</td>\n",
       "      <td>NaN</td>\n",
       "      <td>NaN</td>\n",
       "      <td>NaN</td>\n",
       "      <td>0</td>\n",
       "      <td>7</td>\n",
       "      <td>2009</td>\n",
       "      <td>WD</td>\n",
       "    </tr>\n",
       "  </tbody>\n",
       "</table>\n",
       "<p>5 rows × 80 columns</p>\n",
       "</div>"
      ],
      "text/plain": [
       "     Id        PID  MS SubClass MS Zoning  Lot Frontage  Lot Area Street  \\\n",
       "0  2658  902301120          190        RM          69.0      9142   Pave   \n",
       "1  2718  905108090           90        RL           NaN      9662   Pave   \n",
       "2  2414  528218130           60        RL          58.0     17104   Pave   \n",
       "3  1989  902207150           30        RM          60.0      8520   Pave   \n",
       "4   625  535105100           20        RL           NaN      9500   Pave   \n",
       "\n",
       "  Alley Lot Shape Land Contour  ... 3Ssn Porch Screen Porch Pool Area Pool QC  \\\n",
       "0  Grvl       Reg          Lvl  ...          0            0         0     NaN   \n",
       "1   NaN       IR1          Lvl  ...          0            0         0     NaN   \n",
       "2   NaN       IR1          Lvl  ...          0            0         0     NaN   \n",
       "3   NaN       Reg          Lvl  ...          0            0         0     NaN   \n",
       "4   NaN       IR1          Lvl  ...          0          185         0     NaN   \n",
       "\n",
       "  Fence Misc Feature Misc Val Mo Sold  Yr Sold  Sale Type  \n",
       "0   NaN          NaN        0       4     2006        WD   \n",
       "1   NaN          NaN        0       8     2006        WD   \n",
       "2   NaN          NaN        0       9     2006        New  \n",
       "3   NaN          NaN        0       7     2007        WD   \n",
       "4   NaN          NaN        0       7     2009        WD   \n",
       "\n",
       "[5 rows x 80 columns]"
      ]
     },
     "execution_count": 71,
     "metadata": {},
     "output_type": "execute_result"
    }
   ],
   "source": [
    "df_test.head()"
   ]
  },
  {
   "cell_type": "markdown",
   "metadata": {},
   "source": [
    "#### Here, the same cleaning procedure for test dataset is performed to ensure that the test dataframe is similar to the training dataset. "
   ]
  },
  {
   "cell_type": "code",
   "execution_count": 72,
   "metadata": {},
   "outputs": [],
   "source": [
    "# cleaning numerical columns.\n",
    "# 'Pool QC':874,'Misc Feature':837,'Alley':820,'Fence':706,'Fireplace Qu':422, Columns with top missing cells. \n",
    "# Same as training dataset, these columns should be deleted.  \n",
    "pd.DataFrame(df_test.isnull().sum().sort_values(ascending=False)).head(25)\n",
    "df_test.drop(['Pool QC','Misc Feature','Alley','Fence','Fireplace Qu'], axis=1, inplace=True)"
   ]
  },
  {
   "cell_type": "code",
   "execution_count": 73,
   "metadata": {},
   "outputs": [
    {
     "data": {
      "text/plain": [
       "[{'Lot Frontage': 160}, {'Mas Vnr Area': 1}, {'Garage Yr Blt': 45}]"
      ]
     },
     "execution_count": 73,
     "metadata": {},
     "output_type": "execute_result"
    }
   ],
   "source": [
    "# Numeric columns with null cells are determined in test dataset. \n",
    "types_numeric_test=[column for column in list(df_test.columns) if df_test[column].dtypes!='object']\n",
    "num_null_test=[{column:df_test[column].isnull().sum()} for column in types_numeric_test if df_test[column].isnull().sum()!=0]\n",
    "num_null_test_plus=[column for column in types_numeric_test if df_test[column].isnull().sum()!=0] \n",
    "num_null_test"
   ]
  },
  {
   "cell_type": "code",
   "execution_count": 74,
   "metadata": {},
   "outputs": [
    {
     "data": {
      "text/plain": [
       "(878, 75)"
      ]
     },
     "execution_count": 74,
     "metadata": {},
     "output_type": "execute_result"
    }
   ],
   "source": [
    "df_test.shape"
   ]
  },
  {
   "cell_type": "code",
   "execution_count": 75,
   "metadata": {},
   "outputs": [
    {
     "data": {
      "text/plain": [
       "count    718.000000\n",
       "mean      69.545961\n",
       "std       23.533945\n",
       "min       21.000000\n",
       "25%       59.000000\n",
       "50%       68.000000\n",
       "75%       80.000000\n",
       "max      182.000000\n",
       "Name: Lot Frontage, dtype: float64"
      ]
     },
     "execution_count": 75,
     "metadata": {},
     "output_type": "execute_result"
    }
   ],
   "source": [
    "df_test['Lot Frontage'].describe()"
   ]
  },
  {
   "cell_type": "code",
   "execution_count": 76,
   "metadata": {},
   "outputs": [
    {
     "data": {
      "image/png": "[encoded data removed]",
      "text/plain": [
       "<Figure size 432x288 with 1 Axes>"
      ]
     },
     "metadata": {
      "needs_background": "light"
     },
     "output_type": "display_data"
    }
   ],
   "source": [
    "plt.hist(df_test['Lot Frontage']);"
   ]
  },
  {
   "cell_type": "code",
   "execution_count": 77,
   "metadata": {},
   "outputs": [],
   "source": [
    "df_test['Lot Frontage'].fillna(df_test['Lot Frontage'].mean(),inplace=True)"
   ]
  },
  {
   "cell_type": "code",
   "execution_count": 78,
   "metadata": {},
   "outputs": [
    {
     "data": {
      "text/plain": [
       "count     833.000000\n",
       "mean     1976.759904\n",
       "std        25.689763\n",
       "min      1900.000000\n",
       "25%      1960.000000\n",
       "50%      1978.000000\n",
       "75%      2001.000000\n",
       "max      2010.000000\n",
       "Name: Garage Yr Blt, dtype: float64"
      ]
     },
     "execution_count": 78,
     "metadata": {},
     "output_type": "execute_result"
    }
   ],
   "source": [
    "df_test['Garage Yr Blt'].describe()"
   ]
  },
  {
   "cell_type": "code",
   "execution_count": 79,
   "metadata": {},
   "outputs": [
    {
     "data": {
      "image/png": "[encoded data removed]",
      "text/plain": [
       "<Figure size 432x288 with 1 Axes>"
      ]
     },
     "metadata": {
      "needs_background": "light"
     },
     "output_type": "display_data"
    }
   ],
   "source": [
    "plt.hist(df_test['Garage Yr Blt']);"
   ]
  },
  {
   "cell_type": "code",
   "execution_count": 80,
   "metadata": {},
   "outputs": [],
   "source": [
    "df_test['Garage Yr Blt'].fillna(df_test['Garage Yr Blt'].median(),inplace=True)"
   ]
  },
  {
   "cell_type": "code",
   "execution_count": 81,
   "metadata": {},
   "outputs": [
    {
     "data": {
      "text/plain": [
       "count     877.000000\n",
       "mean      106.236032\n",
       "std       187.158908\n",
       "min         0.000000\n",
       "25%         0.000000\n",
       "50%         0.000000\n",
       "75%       172.000000\n",
       "max      1378.000000\n",
       "Name: Mas Vnr Area, dtype: float64"
      ]
     },
     "execution_count": 81,
     "metadata": {},
     "output_type": "execute_result"
    }
   ],
   "source": [
    "df_test['Mas Vnr Area'].describe()\n"
   ]
  },
  {
   "cell_type": "code",
   "execution_count": 82,
   "metadata": {},
   "outputs": [],
   "source": [
    "df_test['Mas Vnr Area'].fillna(df_test['Mas Vnr Area'].median(),inplace=True)"
   ]
  },
  {
   "cell_type": "markdown",
   "metadata": {},
   "source": [
    "#### Now, the same procedure is repeated for object type columns"
   ]
  },
  {
   "cell_type": "code",
   "execution_count": 83,
   "metadata": {},
   "outputs": [],
   "source": [
    "types_object_test=[column for column in list(df_test.columns) if df_test[column].dtypes=='object']\n",
    "obj_null_test=[{column:df_test[column].isnull().sum()} for column in types_object_test if df_test[column].isnull().sum()!=0] \n",
    "obj_null_test_plus=[column for column in types_object_test if df_test[column].isnull().sum()!=0]"
   ]
  },
  {
   "cell_type": "code",
   "execution_count": 84,
   "metadata": {},
   "outputs": [],
   "source": [
    "[df_test[item].fillna(df_test[item].value_counts().index[0], inplace=True) for item in obj_null_test_plus];"
   ]
  },
  {
   "cell_type": "code",
   "execution_count": 85,
   "metadata": {},
   "outputs": [],
   "source": [
    "df_train.dropna(inplace=True)"
   ]
  },
  {
   "cell_type": "code",
   "execution_count": 86,
   "metadata": {},
   "outputs": [],
   "source": [
    "df_test_with_dummies=pd.get_dummies(data=df_test,columns=['MS Zoning','Lot Shape','Land Contour',\n",
    "                          'Lot Config','Neighborhood','Condition 1','Bldg Type','House Style',\n",
    "                          'Roof Style','Exterior 1st','Exterior 2nd',\n",
    "                          'Mas Vnr Type','Exter Qual','Exter Cond','Foundation','Bsmt Qual','Bsmt Exposure'\n",
    "                          ,'BsmtFin Type 1', 'BsmtFin Type 2','Heating',\n",
    "                          'Heating QC','Electrical','Kitchen Qual','Functional','Garage Type','Garage Finish',\n",
    "                         'Garage Qual','Paved Drive','Sale Type'])"
   ]
  },
  {
   "cell_type": "code",
   "execution_count": 87,
   "metadata": {},
   "outputs": [],
   "source": [
    "X_test_dataset=df_test_with_dummies[features]\n"
   ]
  },
  {
   "cell_type": "code",
   "execution_count": 88,
   "metadata": {},
   "outputs": [],
   "source": [
    "ss=StandardScaler()\n",
    "X_test_dataset_sc=ss.fit_transform(X_test_dataset)"
   ]
  },
  {
   "cell_type": "code",
   "execution_count": 89,
   "metadata": {},
   "outputs": [],
   "source": [
    "y_test_dataset_lr=lr.predict(X_test_dataset_sc)"
   ]
  },
  {
   "cell_type": "code",
   "execution_count": 90,
   "metadata": {},
   "outputs": [],
   "source": [
    "y_test_dataset_lasso=lasso.predict(X_test_dataset_sc)"
   ]
  },
  {
   "cell_type": "code",
   "execution_count": 91,
   "metadata": {},
   "outputs": [],
   "source": [
    "y_test_dataset_ridge=ridge.predict(X_test_dataset_sc)"
   ]
  },
  {
   "cell_type": "code",
   "execution_count": 94,
   "metadata": {},
   "outputs": [
    {
     "data": {
      "image/png": "[encoded data removed]",
      "text/plain": [
       "<Figure size 864x648 with 1 Axes>"
      ]
     },
     "metadata": {
      "needs_background": "light"
     },
     "output_type": "display_data"
    }
   ],
   "source": [
    "# Predicted y values from test dataset are plotted.\n",
    "fig=plt.figure(figsize=(12,9))\n",
    "\n",
    "lr_lasso_plt=plt.scatter(y_test_dataset_lr, y_test_dataset_lasso, s=50, color='black', alpha = 0.5)\n",
    "lr_ridge_plt=plt.scatter(y_test_dataset_lr, y_test_dataset_ridge, s=50, color='purple', alpha = 0.3)\n",
    "\n",
    "plt.legend((lr_lasso_plt,lr_ridge_plt),('Linear Regression vs. Lasso','Linear Regression vs. Ridge'),ncol=1,fontsize=20,loc='best',markerscale=3)\n",
    "\n",
    "# Tweak title and axis labels.\n",
    "plt.xlabel(\"Predicted Values: $\\hat{y}$ Linear Regression\" , fontsize = 25)\n",
    "plt.ylabel(\"Predicted Values: $y$\", fontsize = 25)\n",
    "plt.xticks(fontsize=20)\n",
    "plt.ylim(10.5,13.5)\n",
    "plt.xlim(10.5,13.5)\n",
    "plt.yticks(fontsize=20)\n",
    "plt.tight_layout()\n",
    "plt.savefig(\"images/Predicted_Actual_test_dataset.jpg\", dpi=600);"
   ]
  },
  {
   "cell_type": "code",
   "execution_count": 95,
   "metadata": {
    "scrolled": true
   },
   "outputs": [],
   "source": [
    "SalePrice=pd.DataFrame(np.exp(y_test_dataset_lr),columns=['SalePrice'])\n"
   ]
  },
  {
   "cell_type": "code",
   "execution_count": 96,
   "metadata": {},
   "outputs": [
    {
     "data": {
      "text/html": [
       "<div>\n",
       "<style scoped>\n",
       "    .dataframe tbody tr th:only-of-type {\n",
       "        vertical-align: middle;\n",
       "    }\n",
       "\n",
       "    .dataframe tbody tr th {\n",
       "        vertical-align: top;\n",
       "    }\n",
       "\n",
       "    .dataframe thead th {\n",
       "        text-align: right;\n",
       "    }\n",
       "</style>\n",
       "<table border=\"1\" class=\"dataframe\">\n",
       "  <thead>\n",
       "    <tr style=\"text-align: right;\">\n",
       "      <th></th>\n",
       "      <th>Id</th>\n",
       "      <th>PID</th>\n",
       "      <th>MS SubClass</th>\n",
       "      <th>MS Zoning</th>\n",
       "      <th>Lot Frontage</th>\n",
       "      <th>Lot Area</th>\n",
       "      <th>Street</th>\n",
       "      <th>Lot Shape</th>\n",
       "      <th>Land Contour</th>\n",
       "      <th>Utilities</th>\n",
       "      <th>...</th>\n",
       "      <th>Wood Deck SF</th>\n",
       "      <th>Open Porch SF</th>\n",
       "      <th>Enclosed Porch</th>\n",
       "      <th>3Ssn Porch</th>\n",
       "      <th>Screen Porch</th>\n",
       "      <th>Pool Area</th>\n",
       "      <th>Misc Val</th>\n",
       "      <th>Mo Sold</th>\n",
       "      <th>Yr Sold</th>\n",
       "      <th>Sale Type</th>\n",
       "    </tr>\n",
       "  </thead>\n",
       "  <tbody>\n",
       "    <tr>\n",
       "      <th>0</th>\n",
       "      <td>2658</td>\n",
       "      <td>902301120</td>\n",
       "      <td>190</td>\n",
       "      <td>RM</td>\n",
       "      <td>69.000000</td>\n",
       "      <td>9142</td>\n",
       "      <td>Pave</td>\n",
       "      <td>Reg</td>\n",
       "      <td>Lvl</td>\n",
       "      <td>AllPub</td>\n",
       "      <td>...</td>\n",
       "      <td>0</td>\n",
       "      <td>60</td>\n",
       "      <td>112</td>\n",
       "      <td>0</td>\n",
       "      <td>0</td>\n",
       "      <td>0</td>\n",
       "      <td>0</td>\n",
       "      <td>4</td>\n",
       "      <td>2006</td>\n",
       "      <td>WD</td>\n",
       "    </tr>\n",
       "    <tr>\n",
       "      <th>1</th>\n",
       "      <td>2718</td>\n",
       "      <td>905108090</td>\n",
       "      <td>90</td>\n",
       "      <td>RL</td>\n",
       "      <td>69.545961</td>\n",
       "      <td>9662</td>\n",
       "      <td>Pave</td>\n",
       "      <td>IR1</td>\n",
       "      <td>Lvl</td>\n",
       "      <td>AllPub</td>\n",
       "      <td>...</td>\n",
       "      <td>170</td>\n",
       "      <td>0</td>\n",
       "      <td>0</td>\n",
       "      <td>0</td>\n",
       "      <td>0</td>\n",
       "      <td>0</td>\n",
       "      <td>0</td>\n",
       "      <td>8</td>\n",
       "      <td>2006</td>\n",
       "      <td>WD</td>\n",
       "    </tr>\n",
       "    <tr>\n",
       "      <th>2</th>\n",
       "      <td>2414</td>\n",
       "      <td>528218130</td>\n",
       "      <td>60</td>\n",
       "      <td>RL</td>\n",
       "      <td>58.000000</td>\n",
       "      <td>17104</td>\n",
       "      <td>Pave</td>\n",
       "      <td>IR1</td>\n",
       "      <td>Lvl</td>\n",
       "      <td>AllPub</td>\n",
       "      <td>...</td>\n",
       "      <td>100</td>\n",
       "      <td>24</td>\n",
       "      <td>0</td>\n",
       "      <td>0</td>\n",
       "      <td>0</td>\n",
       "      <td>0</td>\n",
       "      <td>0</td>\n",
       "      <td>9</td>\n",
       "      <td>2006</td>\n",
       "      <td>New</td>\n",
       "    </tr>\n",
       "    <tr>\n",
       "      <th>3</th>\n",
       "      <td>1989</td>\n",
       "      <td>902207150</td>\n",
       "      <td>30</td>\n",
       "      <td>RM</td>\n",
       "      <td>60.000000</td>\n",
       "      <td>8520</td>\n",
       "      <td>Pave</td>\n",
       "      <td>Reg</td>\n",
       "      <td>Lvl</td>\n",
       "      <td>AllPub</td>\n",
       "      <td>...</td>\n",
       "      <td>0</td>\n",
       "      <td>0</td>\n",
       "      <td>184</td>\n",
       "      <td>0</td>\n",
       "      <td>0</td>\n",
       "      <td>0</td>\n",
       "      <td>0</td>\n",
       "      <td>7</td>\n",
       "      <td>2007</td>\n",
       "      <td>WD</td>\n",
       "    </tr>\n",
       "    <tr>\n",
       "      <th>4</th>\n",
       "      <td>625</td>\n",
       "      <td>535105100</td>\n",
       "      <td>20</td>\n",
       "      <td>RL</td>\n",
       "      <td>69.545961</td>\n",
       "      <td>9500</td>\n",
       "      <td>Pave</td>\n",
       "      <td>IR1</td>\n",
       "      <td>Lvl</td>\n",
       "      <td>AllPub</td>\n",
       "      <td>...</td>\n",
       "      <td>0</td>\n",
       "      <td>76</td>\n",
       "      <td>0</td>\n",
       "      <td>0</td>\n",
       "      <td>185</td>\n",
       "      <td>0</td>\n",
       "      <td>0</td>\n",
       "      <td>7</td>\n",
       "      <td>2009</td>\n",
       "      <td>WD</td>\n",
       "    </tr>\n",
       "  </tbody>\n",
       "</table>\n",
       "<p>5 rows × 75 columns</p>\n",
       "</div>"
      ],
      "text/plain": [
       "     Id        PID  MS SubClass MS Zoning  Lot Frontage  Lot Area Street  \\\n",
       "0  2658  902301120          190        RM     69.000000      9142   Pave   \n",
       "1  2718  905108090           90        RL     69.545961      9662   Pave   \n",
       "2  2414  528218130           60        RL     58.000000     17104   Pave   \n",
       "3  1989  902207150           30        RM     60.000000      8520   Pave   \n",
       "4   625  535105100           20        RL     69.545961      9500   Pave   \n",
       "\n",
       "  Lot Shape Land Contour Utilities  ... Wood Deck SF Open Porch SF  \\\n",
       "0       Reg          Lvl    AllPub  ...            0            60   \n",
       "1       IR1          Lvl    AllPub  ...          170             0   \n",
       "2       IR1          Lvl    AllPub  ...          100            24   \n",
       "3       Reg          Lvl    AllPub  ...            0             0   \n",
       "4       IR1          Lvl    AllPub  ...            0            76   \n",
       "\n",
       "  Enclosed Porch 3Ssn Porch Screen Porch Pool Area Misc Val  Mo Sold  Yr Sold  \\\n",
       "0            112          0            0         0        0        4     2006   \n",
       "1              0          0            0         0        0        8     2006   \n",
       "2              0          0            0         0        0        9     2006   \n",
       "3            184          0            0         0        0        7     2007   \n",
       "4              0          0          185         0        0        7     2009   \n",
       "\n",
       "   Sale Type  \n",
       "0        WD   \n",
       "1        WD   \n",
       "2        New  \n",
       "3        WD   \n",
       "4        WD   \n",
       "\n",
       "[5 rows x 75 columns]"
      ]
     },
     "execution_count": 96,
     "metadata": {},
     "output_type": "execute_result"
    }
   ],
   "source": [
    "df_test.head()"
   ]
  },
  {
   "cell_type": "code",
   "execution_count": 97,
   "metadata": {},
   "outputs": [],
   "source": [
    "sub=pd.concat([df_test, SalePrice], axis=1)"
   ]
  },
  {
   "cell_type": "code",
   "execution_count": 98,
   "metadata": {},
   "outputs": [
    {
     "data": {
      "text/html": [
       "<div>\n",
       "<style scoped>\n",
       "    .dataframe tbody tr th:only-of-type {\n",
       "        vertical-align: middle;\n",
       "    }\n",
       "\n",
       "    .dataframe tbody tr th {\n",
       "        vertical-align: top;\n",
       "    }\n",
       "\n",
       "    .dataframe thead th {\n",
       "        text-align: right;\n",
       "    }\n",
       "</style>\n",
       "<table border=\"1\" class=\"dataframe\">\n",
       "  <thead>\n",
       "    <tr style=\"text-align: right;\">\n",
       "      <th></th>\n",
       "      <th>Id</th>\n",
       "      <th>PID</th>\n",
       "      <th>MS SubClass</th>\n",
       "      <th>MS Zoning</th>\n",
       "      <th>Lot Frontage</th>\n",
       "      <th>Lot Area</th>\n",
       "      <th>Street</th>\n",
       "      <th>Lot Shape</th>\n",
       "      <th>Land Contour</th>\n",
       "      <th>Utilities</th>\n",
       "      <th>...</th>\n",
       "      <th>Open Porch SF</th>\n",
       "      <th>Enclosed Porch</th>\n",
       "      <th>3Ssn Porch</th>\n",
       "      <th>Screen Porch</th>\n",
       "      <th>Pool Area</th>\n",
       "      <th>Misc Val</th>\n",
       "      <th>Mo Sold</th>\n",
       "      <th>Yr Sold</th>\n",
       "      <th>Sale Type</th>\n",
       "      <th>SalePrice</th>\n",
       "    </tr>\n",
       "  </thead>\n",
       "  <tbody>\n",
       "    <tr>\n",
       "      <th>0</th>\n",
       "      <td>2658</td>\n",
       "      <td>902301120</td>\n",
       "      <td>190</td>\n",
       "      <td>RM</td>\n",
       "      <td>69.000000</td>\n",
       "      <td>9142</td>\n",
       "      <td>Pave</td>\n",
       "      <td>Reg</td>\n",
       "      <td>Lvl</td>\n",
       "      <td>AllPub</td>\n",
       "      <td>...</td>\n",
       "      <td>60</td>\n",
       "      <td>112</td>\n",
       "      <td>0</td>\n",
       "      <td>0</td>\n",
       "      <td>0</td>\n",
       "      <td>0</td>\n",
       "      <td>4</td>\n",
       "      <td>2006</td>\n",
       "      <td>WD</td>\n",
       "      <td>114902.040381</td>\n",
       "    </tr>\n",
       "    <tr>\n",
       "      <th>1</th>\n",
       "      <td>2718</td>\n",
       "      <td>905108090</td>\n",
       "      <td>90</td>\n",
       "      <td>RL</td>\n",
       "      <td>69.545961</td>\n",
       "      <td>9662</td>\n",
       "      <td>Pave</td>\n",
       "      <td>IR1</td>\n",
       "      <td>Lvl</td>\n",
       "      <td>AllPub</td>\n",
       "      <td>...</td>\n",
       "      <td>0</td>\n",
       "      <td>0</td>\n",
       "      <td>0</td>\n",
       "      <td>0</td>\n",
       "      <td>0</td>\n",
       "      <td>0</td>\n",
       "      <td>8</td>\n",
       "      <td>2006</td>\n",
       "      <td>WD</td>\n",
       "      <td>164432.722805</td>\n",
       "    </tr>\n",
       "    <tr>\n",
       "      <th>2</th>\n",
       "      <td>2414</td>\n",
       "      <td>528218130</td>\n",
       "      <td>60</td>\n",
       "      <td>RL</td>\n",
       "      <td>58.000000</td>\n",
       "      <td>17104</td>\n",
       "      <td>Pave</td>\n",
       "      <td>IR1</td>\n",
       "      <td>Lvl</td>\n",
       "      <td>AllPub</td>\n",
       "      <td>...</td>\n",
       "      <td>24</td>\n",
       "      <td>0</td>\n",
       "      <td>0</td>\n",
       "      <td>0</td>\n",
       "      <td>0</td>\n",
       "      <td>0</td>\n",
       "      <td>9</td>\n",
       "      <td>2006</td>\n",
       "      <td>New</td>\n",
       "      <td>219621.207637</td>\n",
       "    </tr>\n",
       "    <tr>\n",
       "      <th>3</th>\n",
       "      <td>1989</td>\n",
       "      <td>902207150</td>\n",
       "      <td>30</td>\n",
       "      <td>RM</td>\n",
       "      <td>60.000000</td>\n",
       "      <td>8520</td>\n",
       "      <td>Pave</td>\n",
       "      <td>Reg</td>\n",
       "      <td>Lvl</td>\n",
       "      <td>AllPub</td>\n",
       "      <td>...</td>\n",
       "      <td>0</td>\n",
       "      <td>184</td>\n",
       "      <td>0</td>\n",
       "      <td>0</td>\n",
       "      <td>0</td>\n",
       "      <td>0</td>\n",
       "      <td>7</td>\n",
       "      <td>2007</td>\n",
       "      <td>WD</td>\n",
       "      <td>121174.091282</td>\n",
       "    </tr>\n",
       "    <tr>\n",
       "      <th>4</th>\n",
       "      <td>625</td>\n",
       "      <td>535105100</td>\n",
       "      <td>20</td>\n",
       "      <td>RL</td>\n",
       "      <td>69.545961</td>\n",
       "      <td>9500</td>\n",
       "      <td>Pave</td>\n",
       "      <td>IR1</td>\n",
       "      <td>Lvl</td>\n",
       "      <td>AllPub</td>\n",
       "      <td>...</td>\n",
       "      <td>76</td>\n",
       "      <td>0</td>\n",
       "      <td>0</td>\n",
       "      <td>185</td>\n",
       "      <td>0</td>\n",
       "      <td>0</td>\n",
       "      <td>7</td>\n",
       "      <td>2009</td>\n",
       "      <td>WD</td>\n",
       "      <td>173036.695900</td>\n",
       "    </tr>\n",
       "  </tbody>\n",
       "</table>\n",
       "<p>5 rows × 76 columns</p>\n",
       "</div>"
      ],
      "text/plain": [
       "     Id        PID  MS SubClass MS Zoning  Lot Frontage  Lot Area Street  \\\n",
       "0  2658  902301120          190        RM     69.000000      9142   Pave   \n",
       "1  2718  905108090           90        RL     69.545961      9662   Pave   \n",
       "2  2414  528218130           60        RL     58.000000     17104   Pave   \n",
       "3  1989  902207150           30        RM     60.000000      8520   Pave   \n",
       "4   625  535105100           20        RL     69.545961      9500   Pave   \n",
       "\n",
       "  Lot Shape Land Contour Utilities  ... Open Porch SF Enclosed Porch  \\\n",
       "0       Reg          Lvl    AllPub  ...            60            112   \n",
       "1       IR1          Lvl    AllPub  ...             0              0   \n",
       "2       IR1          Lvl    AllPub  ...            24              0   \n",
       "3       Reg          Lvl    AllPub  ...             0            184   \n",
       "4       IR1          Lvl    AllPub  ...            76              0   \n",
       "\n",
       "  3Ssn Porch Screen Porch Pool Area Misc Val Mo Sold  Yr Sold  Sale Type  \\\n",
       "0          0            0         0        0       4     2006        WD    \n",
       "1          0            0         0        0       8     2006        WD    \n",
       "2          0            0         0        0       9     2006        New   \n",
       "3          0            0         0        0       7     2007        WD    \n",
       "4          0          185         0        0       7     2009        WD    \n",
       "\n",
       "       SalePrice  \n",
       "0  114902.040381  \n",
       "1  164432.722805  \n",
       "2  219621.207637  \n",
       "3  121174.091282  \n",
       "4  173036.695900  \n",
       "\n",
       "[5 rows x 76 columns]"
      ]
     },
     "execution_count": 98,
     "metadata": {},
     "output_type": "execute_result"
    }
   ],
   "source": [
    "sub.head()"
   ]
  },
  {
   "cell_type": "code",
   "execution_count": 99,
   "metadata": {},
   "outputs": [],
   "source": [
    "sub_reg=sub[['Id','SalePrice']]\n",
    "#sub_reg=sub_reg.reset_index(drop=True)"
   ]
  },
  {
   "cell_type": "code",
   "execution_count": 100,
   "metadata": {},
   "outputs": [
    {
     "data": {
      "text/html": [
       "<div>\n",
       "<style scoped>\n",
       "    .dataframe tbody tr th:only-of-type {\n",
       "        vertical-align: middle;\n",
       "    }\n",
       "\n",
       "    .dataframe tbody tr th {\n",
       "        vertical-align: top;\n",
       "    }\n",
       "\n",
       "    .dataframe thead th {\n",
       "        text-align: right;\n",
       "    }\n",
       "</style>\n",
       "<table border=\"1\" class=\"dataframe\">\n",
       "  <thead>\n",
       "    <tr style=\"text-align: right;\">\n",
       "      <th></th>\n",
       "      <th>Id</th>\n",
       "      <th>SalePrice</th>\n",
       "    </tr>\n",
       "  </thead>\n",
       "  <tbody>\n",
       "    <tr>\n",
       "      <th>0</th>\n",
       "      <td>2658</td>\n",
       "      <td>114902.040381</td>\n",
       "    </tr>\n",
       "    <tr>\n",
       "      <th>1</th>\n",
       "      <td>2718</td>\n",
       "      <td>164432.722805</td>\n",
       "    </tr>\n",
       "    <tr>\n",
       "      <th>2</th>\n",
       "      <td>2414</td>\n",
       "      <td>219621.207637</td>\n",
       "    </tr>\n",
       "    <tr>\n",
       "      <th>3</th>\n",
       "      <td>1989</td>\n",
       "      <td>121174.091282</td>\n",
       "    </tr>\n",
       "    <tr>\n",
       "      <th>4</th>\n",
       "      <td>625</td>\n",
       "      <td>173036.695900</td>\n",
       "    </tr>\n",
       "    <tr>\n",
       "      <th>...</th>\n",
       "      <td>...</td>\n",
       "      <td>...</td>\n",
       "    </tr>\n",
       "    <tr>\n",
       "      <th>873</th>\n",
       "      <td>1662</td>\n",
       "      <td>176512.667674</td>\n",
       "    </tr>\n",
       "    <tr>\n",
       "      <th>874</th>\n",
       "      <td>1234</td>\n",
       "      <td>200746.769762</td>\n",
       "    </tr>\n",
       "    <tr>\n",
       "      <th>875</th>\n",
       "      <td>1373</td>\n",
       "      <td>129574.102865</td>\n",
       "    </tr>\n",
       "    <tr>\n",
       "      <th>876</th>\n",
       "      <td>1672</td>\n",
       "      <td>107982.503153</td>\n",
       "    </tr>\n",
       "    <tr>\n",
       "      <th>877</th>\n",
       "      <td>1939</td>\n",
       "      <td>124654.150959</td>\n",
       "    </tr>\n",
       "  </tbody>\n",
       "</table>\n",
       "<p>878 rows × 2 columns</p>\n",
       "</div>"
      ],
      "text/plain": [
       "       Id      SalePrice\n",
       "0    2658  114902.040381\n",
       "1    2718  164432.722805\n",
       "2    2414  219621.207637\n",
       "3    1989  121174.091282\n",
       "4     625  173036.695900\n",
       "..    ...            ...\n",
       "873  1662  176512.667674\n",
       "874  1234  200746.769762\n",
       "875  1373  129574.102865\n",
       "876  1672  107982.503153\n",
       "877  1939  124654.150959\n",
       "\n",
       "[878 rows x 2 columns]"
      ]
     },
     "execution_count": 100,
     "metadata": {},
     "output_type": "execute_result"
    }
   ],
   "source": [
    "sub_reg"
   ]
  },
  {
   "cell_type": "code",
   "execution_count": 101,
   "metadata": {},
   "outputs": [],
   "source": [
    "sub_reg.to_csv(\"predicted_saleprice.csv\", index=False)#./datasets/test.csv"
   ]
  },
  {
   "cell_type": "code",
   "execution_count": null,
   "metadata": {},
   "outputs": [],
   "source": []
  }
 ],
 "metadata": {
  "kernelspec": {
   "display_name": "Python 3",
   "language": "python",
   "name": "python3"
  },
  "language_info": {
   "codemirror_mode": {
    "name": "ipython",
    "version": 3
   },
   "file_extension": ".py",
   "mimetype": "text/x-python",
   "name": "python",
   "nbconvert_exporter": "python",
   "pygments_lexer": "ipython3",
   "version": "3.9.1"
  }
 },
 "nbformat": 4,
 "nbformat_minor": 4
}
